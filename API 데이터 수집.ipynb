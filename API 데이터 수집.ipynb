{
 "cells": [
  {
   "cell_type": "code",
   "execution_count": 1,
   "id": "b74bf341",
   "metadata": {},
   "outputs": [],
   "source": [
    "import requests\n",
    "import pandas as pd\n",
    "from collections import Counter\n",
    "import json\n",
    "from tqdm.notebook import tqdm\n",
    "from requests.exceptions import Timeout, ConnectionError, HTTPError, RequestException\n",
    "import lxml\n",
    "from lxml import etree\n",
    "from bs4 import BeautifulSoup\n",
    "import re\n",
    "\n",
    "import time\n",
    "\n",
    "#pip install pandas-gbq\n",
    "from google.oauth2 import service_account\n",
    "import pandas_gbq\n",
    "\n",
    "import warnings\n",
    "warnings.filterwarnings(\"ignore\")\n",
    "\n",
    "import glob\n",
    "from google.cloud import bigquery\n",
    "from google.oauth2 import service_account"
   ]
  },
  {
   "cell_type": "markdown",
   "id": "fc49ed82",
   "metadata": {},
   "source": [
    "# CIK LIST"
   ]
  },
  {
   "cell_type": "code",
   "execution_count": null,
   "id": "5e3837d2",
   "metadata": {},
   "outputs": [],
   "source": [
    "headers = {\"User-agent\":'cmo@onelinetec.com'}"
   ]
  },
  {
   "cell_type": "code",
   "execution_count": null,
   "id": "f9cb916d",
   "metadata": {},
   "outputs": [],
   "source": [
    "%%time\n",
    "\n",
    "url = 'https://www.sec.gov/files/company_tickers_exchange.json'\n",
    "edgar = requests.get(url, headers = headers)\n",
    "\n",
    "if edgar.status_code != 200:\n",
    "    print(\"Not 200\")\n",
    "else:\n",
    "    edgar = edgar.json()\n",
    "\n",
    "cik_df = pd.DataFrame(edgar['data'], columns=edgar['fields'])\n",
    "\n",
    "# only Nasdq & NYSE\n",
    "cik_df = cik_df[(cik_df['exchange']=='Nasdaq') | (cik_df['exchange']=='NYSE')].reset_index(drop = True)\n",
    "\n",
    "# cik+10\n",
    "cik_df['cik'] = cik_df['cik'].apply(lambda x: str(x).zfill(10))\n",
    "\n",
    "cik_df = cik_df.drop_duplicates(['cik']).reset_index(drop = True)"
   ]
  },
  {
   "cell_type": "code",
   "execution_count": null,
   "id": "3b96db84",
   "metadata": {},
   "outputs": [],
   "source": [
    "cik_df.head(5)"
   ]
  },
  {
   "cell_type": "markdown",
   "id": "b7688e30",
   "metadata": {},
   "source": [
    "# Company reports"
   ]
  },
  {
   "cell_type": "code",
   "execution_count": null,
   "id": "15466f81",
   "metadata": {
    "scrolled": true
   },
   "outputs": [],
   "source": [
    "filings_df = pd.DataFrame()\n",
    "\n",
    "for i in tqdm(range(0, len(cik_df))):\n",
    "    cik = cik_df['cik'][i]\n",
    "    url = f'http://data.sec.gov/submissions/CIK{cik}.json'\n",
    "    time.sleep(0.5)\n",
    "\n",
    "    while True:\n",
    "        try:\n",
    "            edgar = requests.get(url, headers = headers)\n",
    "\n",
    "            if edgar.status_code != 200:\n",
    "                print(\"Not 200\")\n",
    "                continue\n",
    "            else:\n",
    "                edgar = edgar.json()    \n",
    "\n",
    "            name = edgar['name'] ; ticker = \";\".join(edgar['tickers']) ; exchange = \";\".join(edgar['exchanges'])\n",
    "            \n",
    "            filings = pd.DataFrame(edgar['filings']['recent'])\n",
    "            filings = filings[(filings['form']=='10-Q') | (filings['form']=='10-K')]\n",
    "            \n",
    "            filings['cik'] = cik ; filings['name'] = name\n",
    "            filings['ticker'] = ticker ; filings['exchange'] = exchange\n",
    "            \n",
    "            filings_df = pd.concat([filings_df, filings]).reset_index(drop = True)\n",
    "\n",
    "            break\n",
    "            \n",
    "        except (Timeout, ConnectionError, HTTPError, RequestException):\n",
    "            print(\"Error\")\n",
    "            continue\n",
    "\n",
    "# cik_list.extend(cik)\n",
    "# accessionNumber_list.extend(accessionNumber)\n",
    "# form_list.extend(form)\n",
    "# primaryDocument_list.extend(primaryDocument)"
   ]
  },
  {
   "cell_type": "code",
   "execution_count": null,
   "id": "77bcc7b6",
   "metadata": {},
   "outputs": [],
   "source": [
    "filings_df = filings_df[['cik', 'name', 'ticker', 'exchange', 'accessionNumber', 'filingDate',\n",
    "                         'reportDate', 'acceptanceDateTime', 'act', 'form', 'fileNumber', 'filmNumber', # delete items\n",
    "                         'size', 'isXBRL', 'isInlineXBRL', 'primaryDocument', 'primaryDocDescription']] #reorder"
   ]
  },
  {
   "cell_type": "code",
   "execution_count": null,
   "id": "f828e073",
   "metadata": {},
   "outputs": [],
   "source": [
    "filings_df.info(memory_usage='deep')"
   ]
  },
  {
   "cell_type": "code",
   "execution_count": null,
   "id": "f1aaca51",
   "metadata": {},
   "outputs": [],
   "source": [
    "filings_df.to_csv(\"filings_df.csv\", encoding = \"utf-8\", index  = False)"
   ]
  },
  {
   "cell_type": "code",
   "execution_count": null,
   "id": "2ae32e69",
   "metadata": {},
   "outputs": [],
   "source": []
  },
  {
   "cell_type": "markdown",
   "id": "64d0dde8",
   "metadata": {},
   "source": [
    "# Reports Content"
   ]
  },
  {
   "cell_type": "code",
   "execution_count": 2,
   "id": "c8e11dd6",
   "metadata": {},
   "outputs": [],
   "source": [
    "filings_df = pd.read_csv(\"filings_df.csv\", encoding = \"utf-8\")\n",
    "\n",
    "# primaryDocument 없는 경우도 있음.\n",
    "filings_df = filings_df.dropna(subset=['primaryDocument']).reset_index(drop = True)\n",
    "\n",
    "filings_df['cik'] = filings_df['cik'].apply(lambda x: str(x).zfill(10))\n",
    "filings_df['act'] = filings_df['act'].fillna(-1)\n",
    "filings_df['act'] = filings_df['act'].apply(lambda x: int(x))\n",
    "\n",
    "filings_df['filmNumber'] = filings_df['filmNumber'].fillna(-1)\n",
    "filings_df['filmNumber'] = filings_df['filmNumber'].apply(lambda x: str(x).replace(\",\",\"\"))\n",
    "filings_df['filmNumber'] = filings_df['filmNumber'].apply(lambda x: int(float(x))) # ['filmNumber']==17010285.17010284]\n",
    "# filings_df['filmNumber'] = filings_df['filmNumber'].apply(lambda x: re.sub(r\"[0-9]\", \"\", x))"
   ]
  },
  {
   "cell_type": "code",
   "execution_count": 3,
   "id": "0c811886",
   "metadata": {},
   "outputs": [
    {
     "data": {
      "text/html": [
       "<div>\n",
       "<style scoped>\n",
       "    .dataframe tbody tr th:only-of-type {\n",
       "        vertical-align: middle;\n",
       "    }\n",
       "\n",
       "    .dataframe tbody tr th {\n",
       "        vertical-align: top;\n",
       "    }\n",
       "\n",
       "    .dataframe thead th {\n",
       "        text-align: right;\n",
       "    }\n",
       "</style>\n",
       "<table border=\"1\" class=\"dataframe\">\n",
       "  <thead>\n",
       "    <tr style=\"text-align: right;\">\n",
       "      <th></th>\n",
       "      <th>cik</th>\n",
       "      <th>name</th>\n",
       "      <th>ticker</th>\n",
       "      <th>exchange</th>\n",
       "      <th>accessionNumber</th>\n",
       "      <th>filingDate</th>\n",
       "      <th>reportDate</th>\n",
       "      <th>acceptanceDateTime</th>\n",
       "      <th>act</th>\n",
       "      <th>form</th>\n",
       "      <th>fileNumber</th>\n",
       "      <th>filmNumber</th>\n",
       "      <th>size</th>\n",
       "      <th>isXBRL</th>\n",
       "      <th>isInlineXBRL</th>\n",
       "      <th>primaryDocument</th>\n",
       "      <th>primaryDocDescription</th>\n",
       "    </tr>\n",
       "  </thead>\n",
       "  <tbody>\n",
       "    <tr>\n",
       "      <th>0</th>\n",
       "      <td>0000320193</td>\n",
       "      <td>Apple Inc.</td>\n",
       "      <td>AAPL</td>\n",
       "      <td>Nasdaq</td>\n",
       "      <td>0000320193-22-000059</td>\n",
       "      <td>2022-04-29</td>\n",
       "      <td>2022-03-26</td>\n",
       "      <td>2022-04-28T18:03:58.000Z</td>\n",
       "      <td>34</td>\n",
       "      <td>10-Q</td>\n",
       "      <td>001-36743</td>\n",
       "      <td>22868650</td>\n",
       "      <td>6140838</td>\n",
       "      <td>1</td>\n",
       "      <td>1</td>\n",
       "      <td>aapl-20220326.htm</td>\n",
       "      <td>10-Q</td>\n",
       "    </tr>\n",
       "    <tr>\n",
       "      <th>1</th>\n",
       "      <td>0000320193</td>\n",
       "      <td>Apple Inc.</td>\n",
       "      <td>AAPL</td>\n",
       "      <td>Nasdaq</td>\n",
       "      <td>0000320193-22-000007</td>\n",
       "      <td>2022-01-28</td>\n",
       "      <td>2021-12-25</td>\n",
       "      <td>2022-01-27T18:00:58.000Z</td>\n",
       "      <td>34</td>\n",
       "      <td>10-Q</td>\n",
       "      <td>001-36743</td>\n",
       "      <td>22564628</td>\n",
       "      <td>5669748</td>\n",
       "      <td>1</td>\n",
       "      <td>1</td>\n",
       "      <td>aapl-20211225.htm</td>\n",
       "      <td>10-Q</td>\n",
       "    </tr>\n",
       "    <tr>\n",
       "      <th>2</th>\n",
       "      <td>0000320193</td>\n",
       "      <td>Apple Inc.</td>\n",
       "      <td>AAPL</td>\n",
       "      <td>Nasdaq</td>\n",
       "      <td>0000320193-21-000105</td>\n",
       "      <td>2021-10-29</td>\n",
       "      <td>2021-09-25</td>\n",
       "      <td>2021-10-28T18:04:28.000Z</td>\n",
       "      <td>34</td>\n",
       "      <td>10-K</td>\n",
       "      <td>001-36743</td>\n",
       "      <td>211359752</td>\n",
       "      <td>10502096</td>\n",
       "      <td>1</td>\n",
       "      <td>1</td>\n",
       "      <td>aapl-20210925.htm</td>\n",
       "      <td>10-K</td>\n",
       "    </tr>\n",
       "    <tr>\n",
       "      <th>3</th>\n",
       "      <td>0000320193</td>\n",
       "      <td>Apple Inc.</td>\n",
       "      <td>AAPL</td>\n",
       "      <td>Nasdaq</td>\n",
       "      <td>0000320193-21-000065</td>\n",
       "      <td>2021-07-28</td>\n",
       "      <td>2021-06-26</td>\n",
       "      <td>2021-07-27T18:03:42.000Z</td>\n",
       "      <td>34</td>\n",
       "      <td>10-Q</td>\n",
       "      <td>001-36743</td>\n",
       "      <td>211119137</td>\n",
       "      <td>8446381</td>\n",
       "      <td>1</td>\n",
       "      <td>1</td>\n",
       "      <td>aapl-20210626.htm</td>\n",
       "      <td>10-Q</td>\n",
       "    </tr>\n",
       "    <tr>\n",
       "      <th>4</th>\n",
       "      <td>0000320193</td>\n",
       "      <td>Apple Inc.</td>\n",
       "      <td>AAPL</td>\n",
       "      <td>Nasdaq</td>\n",
       "      <td>0000320193-21-000056</td>\n",
       "      <td>2021-04-29</td>\n",
       "      <td>2021-03-27</td>\n",
       "      <td>2021-04-28T18:02:54.000Z</td>\n",
       "      <td>34</td>\n",
       "      <td>10-Q</td>\n",
       "      <td>001-36743</td>\n",
       "      <td>21866148</td>\n",
       "      <td>8468959</td>\n",
       "      <td>1</td>\n",
       "      <td>1</td>\n",
       "      <td>aapl-20210327.htm</td>\n",
       "      <td>10-Q</td>\n",
       "    </tr>\n",
       "  </tbody>\n",
       "</table>\n",
       "</div>"
      ],
      "text/plain": [
       "          cik        name ticker exchange       accessionNumber  filingDate  \\\n",
       "0  0000320193  Apple Inc.   AAPL   Nasdaq  0000320193-22-000059  2022-04-29   \n",
       "1  0000320193  Apple Inc.   AAPL   Nasdaq  0000320193-22-000007  2022-01-28   \n",
       "2  0000320193  Apple Inc.   AAPL   Nasdaq  0000320193-21-000105  2021-10-29   \n",
       "3  0000320193  Apple Inc.   AAPL   Nasdaq  0000320193-21-000065  2021-07-28   \n",
       "4  0000320193  Apple Inc.   AAPL   Nasdaq  0000320193-21-000056  2021-04-29   \n",
       "\n",
       "   reportDate        acceptanceDateTime  act  form fileNumber  filmNumber  \\\n",
       "0  2022-03-26  2022-04-28T18:03:58.000Z   34  10-Q  001-36743    22868650   \n",
       "1  2021-12-25  2022-01-27T18:00:58.000Z   34  10-Q  001-36743    22564628   \n",
       "2  2021-09-25  2021-10-28T18:04:28.000Z   34  10-K  001-36743   211359752   \n",
       "3  2021-06-26  2021-07-27T18:03:42.000Z   34  10-Q  001-36743   211119137   \n",
       "4  2021-03-27  2021-04-28T18:02:54.000Z   34  10-Q  001-36743    21866148   \n",
       "\n",
       "       size  isXBRL  isInlineXBRL    primaryDocument primaryDocDescription  \n",
       "0   6140838       1             1  aapl-20220326.htm                  10-Q  \n",
       "1   5669748       1             1  aapl-20211225.htm                  10-Q  \n",
       "2  10502096       1             1  aapl-20210925.htm                  10-K  \n",
       "3   8446381       1             1  aapl-20210626.htm                  10-Q  \n",
       "4   8468959       1             1  aapl-20210327.htm                  10-Q  "
      ]
     },
     "execution_count": 3,
     "metadata": {},
     "output_type": "execute_result"
    }
   ],
   "source": [
    "filings_df.head(5)"
   ]
  },
  {
   "cell_type": "markdown",
   "id": "b62ae244",
   "metadata": {},
   "source": [
    "### API 우선 100개의 cik에 대해서 진행"
   ]
  },
  {
   "cell_type": "code",
   "execution_count": 4,
   "id": "9a54ad01",
   "metadata": {},
   "outputs": [],
   "source": [
    "# cik_list = list(filings_df['cik'].drop_duplicates())\n",
    "temp_df = filings_df[['cik']].drop_duplicates().reset_index(drop = True)\n",
    "temp_df = list(temp_df.sample(100, random_state= 7)['cik'])\n",
    "\n",
    "filings_df = filings_df[filings_df['cik'].isin(temp_df)].reset_index(drop = True)"
   ]
  },
  {
   "cell_type": "code",
   "execution_count": 5,
   "id": "97052e13",
   "metadata": {},
   "outputs": [],
   "source": [
    "cik_list = list(filings_df['cik'].drop_duplicates())"
   ]
  },
  {
   "cell_type": "code",
   "execution_count": 7,
   "id": "eabc9f35",
   "metadata": {},
   "outputs": [],
   "source": [
    "headers = {\"User-agent\":'cmo@onelinetec.com'}\n",
    "\n",
    "del_elements = [f'.//table', f'//*[@id=\"DSPFPageNumber\"]', \"//div[@style='text-align:center']\", f'.//head', \"//div[@style='display:none']\"]\n",
    "stop_words = ['☐','☒']\n",
    "\n",
    "# This function will be our all-in-one noise removal function\n",
    "def remove_stopwords(tokens):\n",
    "    cleaned_tokens = []\n",
    "    for token in tokens:\n",
    "        if token not in stop_words:\n",
    "            cleaned_tokens.append(token.strip())\n",
    "    cleaned_tokens = list(filter(None, cleaned_tokens))\n",
    "    return cleaned_tokens\n",
    "\n",
    "key_path = glob.glob('*.json')[0]\n",
    "credentials = service_account.Credentials.from_service_account_file(key_path)\n",
    "project_id = 'fine-scene-356009'\n",
    "table_id = 'cik_filings.cik_contents'\n",
    "client = bigquery.Client(credentials = credentials, project = credentials.project_id)                                                             "
   ]
  },
  {
   "cell_type": "code",
   "execution_count": 8,
   "id": "026251b1",
   "metadata": {},
   "outputs": [
    {
     "name": "stdout",
     "output_type": "stream",
     "text": [
      "CPU times: user 90.6 ms, sys: 18.5 ms, total: 109 ms\n",
      "Wall time: 886 ms\n"
     ]
    },
    {
     "data": {
      "text/plain": [
       "QueryJob<project=fine-scene-356009, location=asia-northeast3, id=6c91ecd3-039b-4bd8-b74c-4fb2dc1bd1a7>"
      ]
     },
     "execution_count": 8,
     "metadata": {},
     "output_type": "execute_result"
    }
   ],
   "source": [
    "%%time\n",
    "\n",
    "sql = f\"\"\"\n",
    "DELETE FROM `{project_id}.{table_id}` WHERE true;\n",
    "\"\"\"\n",
    "\n",
    "client.query(sql)"
   ]
  },
  {
   "cell_type": "code",
   "execution_count": null,
   "id": "66d4e94a",
   "metadata": {},
   "outputs": [],
   "source": [
    "for index in tqdm(range(0, len(cik_list))):\n",
    "    cik = cik_list[index]\n",
    "    temp_df = filings_df[filings_df['cik']==cik].reset_index(drop = True)\n",
    "    name = temp_df['name'][0]\n",
    "    content_list = [] # init\n",
    "    \n",
    "    for k in range(0, len(temp_df)):\n",
    "        \n",
    "        accessionNumber = temp_df['accessionNumber'][k].replace(\"-\",\"\")\n",
    "        primaryDocument = temp_df['primaryDocument'][k]    \n",
    "\n",
    "        url = f'https://www.sec.gov/Archives/edgar/data/{cik}/{accessionNumber}/{primaryDocument}'\n",
    "        response = requests.get(url, headers = headers)\n",
    "        response = BeautifulSoup(response.content, \"html.parser\")\n",
    "        try:\n",
    "            response = etree.HTML(str(response))\n",
    "        except ValueError: # Unicode strings with encoding declaration are not supported\n",
    "            response = etree.HTML(bytes(str(response), encoding='utf-8'))\n",
    "\n",
    "        for p in del_elements:\n",
    "            if p == f'.//table':\n",
    "                for i in response.xpath(p):\n",
    "                    if len(i) != 1:  # 테이블로 형태의 텍스트를 제외하고는 삭제\n",
    "                        i.getparent().remove(i)\n",
    "            else:        \n",
    "                for i in response.xpath(p): #pagination 일반화가능?\n",
    "                    i.getparent().remove(i)  \n",
    "\n",
    "        content = response.xpath(f'.//text()')\n",
    "        content = remove_stopwords(content)\n",
    "        content = \" \".join(content)\n",
    "        content = re.sub(r\"\\s+\", \" \", content)\n",
    "        content_list.append(content)\n",
    "        \n",
    "    temp_df['content'] = content_list\n",
    "    temp_df.to_gbq(table_id, project_id, if_exists='append', credentials = credentials)\n",
    "    print(f\"{cik}-{name} completed\")"
   ]
  },
  {
   "cell_type": "markdown",
   "id": "e652a5c4",
   "metadata": {},
   "source": [
    "# pandas_gbq은 저장할 때 너무 느림\n",
    "pandas_gbq.to_gbq(data, table_id, project_id=project_id, if_exists = 'replace', credentials = credentials)"
   ]
  },
  {
   "cell_type": "code",
   "execution_count": 6,
   "id": "09d5e2c8",
   "metadata": {},
   "outputs": [],
   "source": [
    "cik = cik_list[0]\n",
    "temp_df = filings_df[filings_df['cik']==cik].reset_index(drop = True)\n",
    "name = temp_df['name'][0]"
   ]
  },
  {
   "cell_type": "code",
   "execution_count": 7,
   "id": "4d2fac94",
   "metadata": {},
   "outputs": [
    {
     "name": "stdout",
     "output_type": "stream",
     "text": [
      "https://www.sec.gov/Archives/edgar/data/0001613103/000161310322000023/mdt-20220429.htm\n"
     ]
    }
   ],
   "source": [
    "for k in range(0, 1):\n",
    "\n",
    "    accessionNumber = temp_df['accessionNumber'][k].replace(\"-\",\"\")\n",
    "    primaryDocument = temp_df['primaryDocument'][k]    \n",
    "    url = f'https://www.sec.gov/Archives/edgar/data/{cik}/{accessionNumber}/{primaryDocument}'\n",
    "    \n",
    "print(url)"
   ]
  },
  {
   "cell_type": "code",
   "execution_count": 8,
   "id": "9c5ed4ec",
   "metadata": {},
   "outputs": [],
   "source": [
    "headers = {'User-agent': 'cmo@onelinetec.com'}"
   ]
  },
  {
   "cell_type": "code",
   "execution_count": 9,
   "id": "5d51b09e",
   "metadata": {},
   "outputs": [
    {
     "name": "stdout",
     "output_type": "stream",
     "text": [
      "<Response [404]>\n"
     ]
    }
   ],
   "source": [
    "response = requests.get(url, headers = headers)\n",
    "print(response)"
   ]
  },
  {
   "cell_type": "code",
   "execution_count": 10,
   "id": "dac76047",
   "metadata": {},
   "outputs": [
    {
     "name": "stdout",
     "output_type": "stream",
     "text": [
      "b'\\n\\n<!DOCTYPE html>\\n<html lang=\"en\" dir=\"ltr\" prefix=\"content: http://purl.org/rss/1.0/modules/content/  dc: http://purl.org/dc/terms/  foaf: http://xmlns.com/foaf/0.1/  og: http://ogp.me/ns#  rdfs: http://www.w3.org/2000/01/rdf-schema#  schema: http://schema.org/  sioc: http://rdfs.org/sioc/ns#  sioct: http://rdfs.org/sioc/types#  skos: http://www.w3.org/2004/02/skos/core#  xsd: http://www.w3.org/2001/XMLSchema# \">\\n  <head>\\n    <meta charset=\"utf-8\" /><script type=\"text/javascript\">(window.NREUM||(NREUM={})).init={ajax:{deny_list:[\"bam.nr-data.net\"]}};(window.NREUM||(NREUM={})).loader_config={licenseKey:\"32edb8f179\",applicationID:\"436723953\"};window.NREUM||(NREUM={}),__nr_require=function(t,e,n){function r(n){if(!e[n]){var i=e[n]={exports:{}};t[n][0].call(i.exports,function(e){var i=t[n][1][e];return r(i||e)},i,i.exports)}return e[n].exports}if(\"function\"==typeof __nr_require)return __nr_require;for(var i=0;i<n.length;i++)r(n[i]);return r}({1:[function(t,e,n){function r(){}function i(t,e,n,r){return function(){return s.recordSupportability(\"API/\"+e+\"/called\"),o(t+e,[u.now()].concat(c(arguments)),n?null:this,r),n?void 0:this}}var o=t(\"handle\"),a=t(9),c=t(10),f=t(\"ee\").get(\"tracer\"),u=t(\"loader\"),s=t(4),d=NREUM;\"undefined\"==typeof window.newrelic&&(newrelic=d);var p=[\"setPageViewName\",\"setCustomAttribute\",\"setErrorHandler\",\"finished\",\"addToTrace\",\"inlineHit\",\"addRelease\"],l=\"api-\",v=l+\"ixn-\";a(p,function(t,e){d[e]=i(l,e,!0,\"api\")}),d.addPageAction=i(l,\"addPageAction\",!0),d.setCurrentRouteName=i(l,\"routeName\",!0),e.exports=newrelic,d.interaction=function(){return(new r).get()};var m=r.prototype={createTracer:function(t,e){var n={},r=this,i=\"function\"==typeof e;return o(v+\"tracer\",[u.now(),t,n],r),function(){if(f.emit((i?\"\":\"no-\")+\"fn-start\",[u.now(),r,i],n),i)try{return e.apply(this,arguments)}catch(t){throw f.emit(\"fn-err\",[arguments,this,t],n),t}finally{f.emit(\"fn-end\",[u.now()],n)}}}};a(\"actionText,setName,setAttribute,save,ignore,onEnd,getContext,end,get\".split(\",\"),function(t,e){m[e]=i(v,e)}),newrelic.noticeError=function(t,e){\"string\"==typeof t&&(t=new Error(t)),s.recordSupportability(\"API/noticeError/called\"),o(\"err\",[t,u.now(),!1,e])}},{}],2:[function(t,e,n){function r(t){if(NREUM.init){for(var e=NREUM.init,n=t.split(\".\"),r=0;r<n.length-1;r++)if(e=e[n[r]],\"object\"!=typeof e)return;return e=e[n[n.length-1]]}}e.exports={getConfiguration:r}},{}],3:[function(t,e,n){var r=!1;try{var i=Object.defineProperty({},\"passive\",{get:function(){r=!0}});window.addEventListener(\"testPassive\",null,i),window.removeEventListener(\"testPassive\",null,i)}catch(o){}e.exports=function(t){return r?{passive:!0,capture:!!t}:!!t}},{}],4:[function(t,e,n){function r(t,e){var n=[a,t,{name:t},e];return o(\"storeMetric\",n,null,\"api\"),n}function i(t,e){var n=[c,t,{name:t},e];return o(\"storeEventMetrics\",n,null,\"api\"),n}var o=t(\"handle\"),a=\"sm\",c=\"cm\";e.exports={constants:{SUPPORTABILITY_METRIC:a,CUSTOM_METRIC:c},recordSupportability:r,recordCustom:i}},{}],5:[function(t,e,n){function r(){return c.exists&&performance.now?Math.round(performance.now()):(o=Math.max((new Date).getTime(),o))-a}function i(){return o}var o=(new Date).getTime(),a=o,c=t(11);e.exports=r,e.exports.offset=a,e.exports.getLastTimestamp=i},{}],6:[function(t,e,n){function r(t,e){var n=t.getEntries();n.forEach(function(t){\"first-paint\"===t.name?l(\"timing\",[\"fp\",Math.floor(t.startTime)]):\"first-contentful-paint\"===t.name&&l(\"timing\",[\"fcp\",Math.floor(t.startTime)])})}function i(t,e){var n=t.getEntries();if(n.length>0){var r=n[n.length-1];if(u&&u<r.startTime)return;var i=[r],o=a({});o&&i.push(o),l(\"lcp\",i)}}function o(t){t.getEntries().forEach(function(t){t.hadRecentInput||l(\"cls\",[t])})}function a(t){var e=navigator.connection||navigator.mozConnection||navigator.webkitConnection;if(e)return e.type&&(t[\"net-type\"]=e.type),e.effectiveType&&(t[\"net-etype\"]=e.effectiveType),e.rtt&&(t[\"net-rtt\"]=e.rtt),e.downlink&&(t[\"net-dlink\"]=e.downlink),t}function c(t){if(t instanceof y&&!w){var e=Math.round(t.timeStamp),n={type:t.type};a(n),e<=v.now()?n.fid=v.now()-e:e>v.offset&&e<=Date.now()?(e-=v.offset,n.fid=v.now()-e):e=v.now(),w=!0,l(\"timing\",[\"fi\",e,n])}}function f(t){\"hidden\"===t&&(u=v.now(),l(\"pageHide\",[u]))}if(!(\"init\"in NREUM&&\"page_view_timing\"in NREUM.init&&\"enabled\"in NREUM.init.page_view_timing&&NREUM.init.page_view_timing.enabled===!1)){var u,s,d,p,l=t(\"handle\"),v=t(\"loader\"),m=t(8),g=t(3),y=NREUM.o.EV;if(\"PerformanceObserver\"in window&&\"function\"==typeof window.PerformanceObserver){s=new PerformanceObserver(r);try{s.observe({entryTypes:[\"paint\"]})}catch(h){}d=new PerformanceObserver(i);try{d.observe({entryTypes:[\"largest-contentful-paint\"]})}catch(h){}p=new PerformanceObserver(o);try{p.observe({type:\"layout-shift\",buffered:!0})}catch(h){}}if(\"addEventListener\"in document){var w=!1,b=[\"click\",\"keydown\",\"mousedown\",\"pointerdown\",\"touchstart\"];b.forEach(function(t){document.addEventListener(t,c,g(!1))})}m(f)}},{}],7:[function(t,e,n){function r(t,e){if(!i)return!1;if(t!==i)return!1;if(!e)return!0;if(!o)return!1;for(var n=o.split(\".\"),r=e.split(\".\"),a=0;a<r.length;a++)if(r[a]!==n[a])return!1;return!0}var i=null,o=null,a=/Version\\\\/(\\\\S+)\\\\s+Safari/;if(navigator.userAgent){var c=navigator.userAgent,f=c.match(a);f&&c.indexOf(\"Chrome\")===-1&&c.indexOf(\"Chromium\")===-1&&(i=\"Safari\",o=f[1])}e.exports={agent:i,version:o,match:r}},{}],8:[function(t,e,n){function r(t){function e(){t(c&&document[c]?document[c]:document[o]?\"hidden\":\"visible\")}\"addEventListener\"in document&&a&&document.addEventListener(a,e,i(!1))}var i=t(3);e.exports=r;var o,a,c;\"undefined\"!=typeof document.hidden?(o=\"hidden\",a=\"visibilitychange\",c=\"visibilityState\"):\"undefined\"!=typeof document.msHidden?(o=\"msHidden\",a=\"msvisibilitychange\"):\"undefined\"!=typeof document.webkitHidden&&(o=\"webkitHidden\",a=\"webkitvisibilitychange\",c=\"webkitVisibilityState\")},{}],9:[function(t,e,n){function r(t,e){var n=[],r=\"\",o=0;for(r in t)i.call(t,r)&&(n[o]=e(r,t[r]),o+=1);return n}var i=Object.prototype.hasOwnProperty;e.exports=r},{}],10:[function(t,e,n){function r(t,e,n){e||(e=0),\"undefined\"==typeof n&&(n=t?t.length:0);for(var r=-1,i=n-e||0,o=Array(i<0?0:i);++r<i;)o[r]=t[e+r];return o}e.exports=r},{}],11:[function(t,e,n){e.exports={exists:\"undefined\"!=typeof window.performance&&window.performance.timing&&\"undefined\"!=typeof window.performance.timing.navigationStart}},{}],ee:[function(t,e,n){function r(){}function i(t){function e(t){return t&&t instanceof r?t:t?u(t,f,a):a()}function n(n,r,i,o,a){if(a!==!1&&(a=!0),!l.aborted||o){t&&a&&t(n,r,i);for(var c=e(i),f=m(n),u=f.length,s=0;s<u;s++)f[s].apply(c,r);var p=d[w[n]];return p&&p.push([b,n,r,c]),c}}function o(t,e){h[t]=m(t).concat(e)}function v(t,e){var n=h[t];if(n)for(var r=0;r<n.length;r++)n[r]===e&&n.splice(r,1)}function m(t){return h[t]||[]}function g(t){return p[t]=p[t]||i(n)}function y(t,e){l.aborted||s(t,function(t,n){e=e||\"feature\",w[n]=e,e in d||(d[e]=[])})}var h={},w={},b={on:o,addEventListener:o,removeEventListener:v,emit:n,get:g,listeners:m,context:e,buffer:y,abort:c,aborted:!1};return b}function o(t){return u(t,f,a)}function a(){return new r}function c(){(d.api||d.feature)&&(l.aborted=!0,d=l.backlog={})}var f=\"nr@context\",u=t(\"gos\"),s=t(9),d={},p={},l=e.exports=i();e.exports.getOrSetContext=o,l.backlog=d},{}],gos:[function(t,e,n){function r(t,e,n){if(i.call(t,e))return t[e];var r=n();if(Object.defineProperty&&Object.keys)try{return Object.defineProperty(t,e,{value:r,writable:!0,enumerable:!1}),r}catch(o){}return t[e]=r,r}var i=Object.prototype.hasOwnProperty;e.exports=r},{}],handle:[function(t,e,n){function r(t,e,n,r){i.buffer([t],r),i.emit(t,e,n)}var i=t(\"ee\").get(\"handle\");e.exports=r,r.ee=i},{}],id:[function(t,e,n){function r(t){var e=typeof t;return!t||\"object\"!==e&&\"function\"!==e?-1:t===window?0:a(t,o,function(){return i++})}var i=1,o=\"nr@id\",a=t(\"gos\");e.exports=r},{}],loader:[function(t,e,n){function r(){if(!M++){var t=T.info=NREUM.info,e=m.getElementsByTagName(\"script\")[0];if(setTimeout(u.abort,3e4),!(t&&t.licenseKey&&t.applicationID&&e))return u.abort();f(x,function(e,n){t[e]||(t[e]=n)});var n=a();c(\"mark\",[\"onload\",n+T.offset],null,\"api\"),c(\"timing\",[\"load\",n]);var r=m.createElement(\"script\");0===t.agent.indexOf(\"http://\")||0===t.agent.indexOf(\"https://\")?r.src=t.agent:r.src=l+\"://\"+t.agent,e.parentNode.insertBefore(r,e)}}function i(){\"complete\"===m.readyState&&o()}function o(){c(\"mark\",[\"domContent\",a()+T.offset],null,\"api\")}var a=t(5),c=t(\"handle\"),f=t(9),u=t(\"ee\"),s=t(7),d=t(2),p=t(3),l=d.getConfiguration(\"ssl\")===!1?\"http\":\"https\",v=window,m=v.document,g=\"addEventListener\",y=\"attachEvent\",h=v.XMLHttpRequest,w=h&&h.prototype,b=!1;NREUM.o={ST:setTimeout,SI:v.setImmediate,CT:clearTimeout,XHR:h,REQ:v.Request,EV:v.Event,PR:v.Promise,MO:v.MutationObserver};var E=\"\"+location,x={beacon:\"bam.nr-data.net\",errorBeacon:\"bam.nr-data.net\",agent:\"js-agent.newrelic.com/nr-1216.min.js\"},O=h&&w&&w[g]&&!/CriOS/.test(navigator.userAgent),T=e.exports={offset:a.getLastTimestamp(),now:a,origin:E,features:{},xhrWrappable:O,userAgent:s,disabled:b};if(!b){t(1),t(6),m[g]?(m[g](\"DOMContentLoaded\",o,p(!1)),v[g](\"load\",r,p(!1))):(m[y](\"onreadystatechange\",i),v[y](\"onload\",r)),c(\"mark\",[\"firstbyte\",a.getLastTimestamp()],null,\"api\");var M=0}},{}],\"wrap-function\":[function(t,e,n){function r(t,e){function n(e,n,r,f,u){function nrWrapper(){var o,a,s,p;try{a=this,o=d(arguments),s=\"function\"==typeof r?r(o,a):r||{}}catch(l){i([l,\"\",[o,a,f],s],t)}c(n+\"start\",[o,a,f],s,u);try{return p=e.apply(a,o)}catch(v){throw c(n+\"err\",[o,a,v],s,u),v}finally{c(n+\"end\",[o,a,p],s,u)}}return a(e)?e:(n||(n=\"\"),nrWrapper[p]=e,o(e,nrWrapper,t),nrWrapper)}function r(t,e,r,i,o){r||(r=\"\");var c,f,u,s=\"-\"===r.charAt(0);for(u=0;u<e.length;u++)f=e[u],c=t[f],a(c)||(t[f]=n(c,s?f+r:r,i,f,o))}function c(n,r,o,a){if(!v||e){var c=v;v=!0;try{t.emit(n,r,o,e,a)}catch(f){i([f,n,r,o],t)}v=c}}return t||(t=s),n.inPlace=r,n.flag=p,n}function i(t,e){e||(e=s);try{e.emit(\"internal-error\",t)}catch(n){}}function o(t,e,n){if(Object.defineProperty&&Object.keys)try{var r=Object.keys(t);return r.forEach(function(n){Object.defineProperty(e,n,{get:function(){return t[n]},set:function(e){return t[n]=e,e}})}),e}catch(o){i([o],n)}for(var a in t)l.call(t,a)&&(e[a]=t[a]);return e}function a(t){return!(t&&t instanceof Function&&t.apply&&!t[p])}function c(t,e){var n=e(t);return n[p]=t,o(t,n,s),n}function f(t,e,n){var r=t[e];t[e]=c(r,n)}function u(){for(var t=arguments.length,e=new Array(t),n=0;n<t;++n)e[n]=arguments[n];return e}var s=t(\"ee\"),d=t(10),p=\"nr@original\",l=Object.prototype.hasOwnProperty,v=!1;e.exports=r,e.exports.wrapFunction=c,e.exports.wrapInPlace=f,e.exports.argsToArray=u},{}]},{},[\"loader\"]);</script>\\n<meta name=\"Generator\" content=\"Drupal 9 (https://www.drupal.org)\" />\\n<meta name=\"MobileOptimized\" content=\"width\" />\\n<meta name=\"HandheldFriendly\" content=\"true\" />\\n<meta name=\"viewport\" content=\"width=device-width, initial-scale=1.0\" />\\n<meta name=\"id\" content=\"315836\" />\\n<link rel=\"icon\" href=\"/themes/custom/secgov/favicon.ico\" type=\"image/vnd.microsoft.icon\" />\\n<link rel=\"canonical\" href=\"https://www.sec.gov/error-404-page-not-found\" />\\n<link rel=\"shortlink\" href=\"https://www.sec.gov/node/315836\" />\\n\\n    <meta name=\"origin\" content=\"Drupal\" />\\n    <meta name=\"viewport\" content=\"width=device-width initial-scale=1.0 maximum-scale=3.0\" />\\n    <title>SEC.gov |</title>\\n    <script>window.env = \"production\";</script>\\n    <link rel=\"stylesheet\" media=\"all\" href=\"/files/css/css_LWqP-C0xJXdm4nCyfaJLzyGzG3zhbzU9vrzd5EeoPVU.css\" />\\n<link rel=\"stylesheet\" media=\"all\" href=\"/files/css/css_qgPn2XrDdEK2trS6xvG8ir17-n2yXANZ5wX4997mbJs.css\" />\\n\\n    <script type=\"application/json\" data-drupal-selector=\"drupal-settings-json\">{\"path\":{\"baseUrl\":\"\\\\/\",\"scriptPath\":null,\"pathPrefix\":\"\",\"currentPath\":\"\",\"currentPathIsAdmin\":false,\"isFront\":false,\"currentLanguage\":\"en\"},\"pluralDelimiter\":\"\\\\u0003\",\"suppressDeprecationErrors\":true,\"data\":{\"extlink\":{\"extTarget\":false,\"extTargetNoOverride\":false,\"extNofollow\":false,\"extNoreferrer\":false,\"extFollowNoOverride\":false,\"extClass\":\"0\",\"extLabel\":\"(link is external)\",\"extImgClass\":false,\"extSubdomains\":true,\"extExclude\":\".*\\\\\\\\.gov|http:\\\\/\\\\/www.xbrl.org\\\\/utr\\\\/2013-05-17\\\\/utr.xml|http:\\\\/\\\\/www.xbrl.org\\\\/dtr\\\\/type\\\\/numeric-2009-12-16.xsd|http:\\\\/\\\\/www.xbrl.org\\\\/dtr\\\\/type\\\\/nonNumeric-2009-12-16.xsd|https:\\\\/\\\\/secir.secure.force.com\\\\/ombudsman\\\\/OMMSForm\",\"extInclude\":\"\",\"extCssExclude\":\".data-exempt\",\"extCssExplicit\":\"\",\"extAlert\":true,\"extAlertText\":\"You are now leaving the SEC Website. The link you have selected is located on another server. Please click on the OK button below to proceed to the selected site. The SEC does not endorse this web site, its sponsor, or any of the policies, activities, products, or services offered on the site or by any advertiser on the site.\",\"mailtoClass\":\"0\",\"mailtoLabel\":\"(link sends email)\",\"extUseFontAwesome\":false,\"extIconPlacement\":\"append\",\"extFaLinkClasses\":\"fa fa-external-link\",\"extFaMailtoClasses\":\"fa fa-envelope-o\",\"whitelistedDomains\":null}},\"user\":{\"uid\":0,\"permissionsHash\":\"04c00260856b47a8f01845e15ffeca03669183d8466dd7ddc4290c568154092e\"}}</script>\\n<script src=\"/files/js/js_DkdESgtfPfV7guog-Lhz7nda0K-ISZe0-gHU4CF6Wo0.js\"></script>\\n\\n  </head>\\n  <body class=\"default-view path-archives node--type-page\">\\n\\n    <a href=\"#main-content\" class=\"visually-hidden focusable\" tabindex=\"1\">\\n      Skip to main content\\n    </a>\\n    \\n      <div class=\"dialog-off-canvas-main-canvas\" data-off-canvas-main-canvas>\\n    \\n\\n\\n<div class=\"page-container\">\\n<div id=\"page-wrapper\">\\n  <div id=\"page\"  class=\"basic-page\">\\n    <div class=\"page-header\" role=\"banner\">\\n      <div class=\"header-content\">\\n        <div id=\"global-header\" class=\"region region-header\">\\n    \\n<div id=\"block-digitalgovsearch\" class=\"block global-header-digitalgov-search\">\\n  \\n    \\n        <div class=\"body\"><!--<div class=\"hide-for-small\" id=\"global-search\">\\n<form accept-charset=\"UTF-8\" action=\"//secsearch.sec.gov/search\" class=\"clearfix\" id=\"global-search-form\" method=\"get\" name=\"form_iQueryForm\">\\n<fieldset><legend></legend> <label class=\"overlabel\" for=\"global-search-box\" style=\"visibility: visible;\">Search SEC.gov</label> <input name=\"utf8\" type=\"hidden\" value=\"?\" /> <input class=\"affiliate\" name=\"affiliate\" type=\"hidden\" value=\"secsearch\" /> <input aria-autocomplete=\"list\" aria-haspopup=\"true\" autocomplete=\"off\" class=\"usagov-search-autocomplete ui-autocomplete-input\" id=\"global-search-box\" name=\"query\" role=\"textbox\" tabindex=\"4\" title=\"Search for\" type=\"text\" /> <span aria-hidden=\"true\" class=\"button-label fa fa-search\"> </span><input class=\"global-search-button\" tabindex=\"5\" title=\"Go\" type=\"submit\" value=\"\" /></fieldset>\\n</form>\\n\\n<p class=\"options\"><a class=\"option-link\" href=\"http://www.sec.gov/edgar/searchedgar/companysearch.html\" tabindex=\"6\">Company Filings</a> | <a class=\"option-link\" href=\"http://www.sec.gov/search/search.htm\" tabindex=\"7\">More Search Options</a></p>\\n</div>-->\\n<div class=\"block block--search block--search-form\" id=\"global-search\" role=\"search\">\\n<form accept-charset=\"UTF-8\" action=\"//secsearch.sec.gov/search\" class=\"clearfix\" id=\"global-search-form\" method=\"get\" name=\"form_iQueryForm\">\\n<fieldset><legend></legend>\\n<div class=\"search-box-container\"><label class=\"overlabel\" for=\"global-search-box\" style=\"visibility: visible;\">Search SEC.gov</label> <input name=\"utf8\" type=\"hidden\" value=\"?\" /> <input class=\"affiliate\" name=\"affiliate\" type=\"hidden\" value=\"secsearch\" /> <input aria-autocomplete=\"list\" aria-haspopup=\"true\" autocomplete=\"off\" class=\"usagov-search-autocomplete ui-autocomplete-input\" id=\"global-search-box\" name=\"query\" role=\"textbox\" title=\"Search for\" type=\"text\" /> <span aria-hidden=\"true\" class=\"button-label fa fa-search\"> </span> <input class=\"global-search-button\" title=\"Go\" type=\"submit\" value=\"\" /></div>\\n</fieldset>\\n</form>\\n\\n<div class=\"menu-name-menu-utility-menu\">\\n<p class=\"options\"><span><a class=\"option-link\" href=\"http://www.sec.gov/edgar/searchedgar/companysearch.html\">Company Filings</a></span> <!--<span><a class=\"option-link\" href=\"http://www.sec.gov/search/search.htm\">More Search Options</a></span>--></p>\\n</div>\\n</div>\\n</div>\\n  </div>\\n<div id=\"block-secgov-branding\" class=\"site-branding block region__inner system_branding_block\">\\n  <div class=\"block--menu-block\">\\n    <div class=\"menu-block-wrapper menu-name-main-menu\">\\n      \\n            \\n      \\n    <div class=\"banner-seal\">\\n    <a href=\"/\" title=\"SEC Emblem\" rel=\"home\" tabindex=\"2\">\\n      <img src=\"/files/sec-logo.png\" alt=\"SEC Emblem\" />\\n    </a>\\n  </div>\\n  \\n    <div class=\"banner-org-name\">\\n      <a href=\"/\" title=\"U.S. Securities and Exchange Commission\" rel=\"home\" tabindex=\"3\">U.S. Securities and <br>Exchange Commission</a>\\n  </div>\\n   \\n\\n    <button id=\"mobile-menu-toggle\" class=\"is-closed\" aria-label=\"Menu Toggle\">\\n    <span class=\"svg-icon svg-icon-sm\" aria-hidden=\"true\">q</span>\\n  </button>\\n\\n    </div>\\n  </div>\\n</div>\\n  </div>\\n\\n\\n      </div>\\n\\n      <div class=\"global-navigation\" id=\"global-navigation\">\\n\\n        <div class=\"desktop-menu\">\\n            <div class=\"navigation-wrapper region region-global-navigation\">\\n    <div id=\"block-secgov-main-menu\" class=\"block region__inner main\">\\n  <div class=\"block--menu-block\">\\n    <div class=\"menu-block-wrapper menu-name-main-menu\">\\n      \\n            \\n          \\n    \\n              <ul id=\"home-menu\" class=\"menu\">\\n                          <li class=\"menu__item is-expanded expanded\" >\\n                <a href=\"/about.shtml\" title=\"About\" class=\"menu__link\">About</a>\\n                                <ul class=\"menu\">\\n                          <li class=\"menu__item is-active is-leaf leaf \">\\n                <a href=\"/careers\" title=\"Careers\" class=\"menu__link\">Careers</a>\\n              </li>\\n                    <li class=\"menu__item is-active is-leaf leaf \">\\n                <a href=\"/Article/about-commissioners.html\" title=\"Commissioners\" class=\"menu__link\">Commissioners</a>\\n              </li>\\n                    <li class=\"menu__item is-active is-leaf leaf \">\\n                <a href=\"/contact-information/sec-directory\" title=\"Contact\" class=\"menu__link\">Contact</a>\\n              </li>\\n                    <li class=\"menu__item is-active is-leaf leaf \">\\n                <a href=\"/reports\" title=\"Reports and Publications\" class=\"menu__link\">Reports and Publications</a>\\n              </li>\\n                    <li class=\"menu__item is-active is-leaf leaf \">\\n                <a href=\"/answers/about-lawsshtml.html\" title=\"Securities Laws\" class=\"menu__link\">Securities Laws</a>\\n              </li>\\n                    <li class=\"menu__item is-active is-leaf leaf \">\\n                <a href=\"/about/what-we-do\" title=\"What We Do\" class=\"menu__link\">What We Do</a>\\n              </li>\\n        </ul>\\n  \\n              </li>\\n                    <li class=\"menu__item is-expanded expanded\" >\\n                <a href=\"/divisions.shtml\" title=\"Divisions &amp; Offices\" class=\"menu__link\">Divisions &amp; Offices</a>\\n                                <ul class=\"menu\">\\n                          <li class=\"menu__item is-active is-leaf leaf \">\\n                <a href=\"/divisions/corpfin.shtml\" title=\"Corporation Finance\" class=\"menu__link\">Corporation Finance</a>\\n              </li>\\n                    <li class=\"menu__item is-active is-leaf leaf \">\\n                <a href=\"/divisions/enforce.shtml\" title=\"Enforcement\" class=\"menu__link\">Enforcement</a>\\n              </li>\\n                    <li class=\"menu__item is-active is-leaf leaf \">\\n                <a href=\"/investment\" title=\"Investment Management\" class=\"menu__link\">Investment Management</a>\\n              </li>\\n                    <li class=\"menu__item is-active is-leaf leaf \">\\n                <a href=\"/divisions/riskfin.shtml\" title=\"Economic and Risk Analysis\" class=\"menu__link\">Economic and Risk Analysis</a>\\n              </li>\\n                    <li class=\"menu__item is-active is-leaf leaf \">\\n                <a href=\"/divisions/marketreg.shtml\" title=\"Trading and Markets\" class=\"menu__link\">Trading and Markets</a>\\n              </li>\\n                    <li class=\"menu__item is-active is-leaf leaf \">\\n                <a href=\"/alj\" title=\"Office of Administrative Law Judges\" class=\"menu__link\">Office of Administrative Law Judges</a>\\n              </li>\\n                    <li class=\"menu__item is-active is-leaf leaf \">\\n                <a href=\"/exams\" title=\"Examinations\" class=\"menu__link\">Examinations</a>\\n              </li>\\n                    <li class=\"menu__item is-active is-leaf leaf \">\\n                <a href=\"/page/sec-regional-offices\" title=\"Regional Offices\" class=\"menu__link\">Regional Offices</a>\\n              </li>\\n                    <li class=\"menu__item is-active is-leaf leaf \">\\n                <a href=\"/divisions.shtml\" title=\"All Divisions and Offices\" class=\"menu__link\">All Divisions and Offices</a>\\n              </li>\\n        </ul>\\n  \\n              </li>\\n                    <li class=\"menu__item is-expanded expanded\" >\\n                <a href=\"/page/litigation\" title=\"Enforcement\" class=\"menu__link\">Enforcement</a>\\n                                <ul class=\"menu\">\\n                          <li class=\"menu__item is-active is-leaf leaf \">\\n                <a href=\"/litigation/litreleases.shtml\" title=\"Litigation Releases\" class=\"menu__link\">Litigation Releases</a>\\n              </li>\\n                    <li class=\"menu__item is-active is-leaf leaf \">\\n                <a href=\"/litigation/admin.shtml\" title=\"Administrative Proceedings\" class=\"menu__link\">Administrative Proceedings</a>\\n              </li>\\n                    <li class=\"menu__item is-active is-leaf leaf \">\\n                <a href=\"/litigation/opinions.shtml\" title=\"Opinions and Adjudicatory Orders\" class=\"menu__link\">Opinions and Adjudicatory Orders</a>\\n              </li>\\n                    <li class=\"menu__item is-active is-leaf leaf \">\\n                <a href=\"/divisions/enforce/friactions.shtml\" title=\"Accounting and Auditing\" class=\"menu__link\">Accounting and Auditing</a>\\n              </li>\\n                    <li class=\"menu__item is-active is-leaf leaf \">\\n                <a href=\"/litigation/suspensions.shtml\" title=\"Trading Suspensions\" class=\"menu__link\">Trading Suspensions</a>\\n              </li>\\n                    <li class=\"menu__item is-active is-leaf leaf \">\\n                <a href=\"/news/newsroom/howinvestigationswork.html\" title=\"How Investigations Work\" class=\"menu__link\">How Investigations Work</a>\\n              </li>\\n                    <li class=\"menu__item is-active is-leaf leaf \">\\n                <a href=\"/divisions/enforce/receiverships.htm\" title=\"Receiverships\" class=\"menu__link\">Receiverships</a>\\n              </li>\\n                    <li class=\"menu__item is-active is-leaf leaf \">\\n                <a href=\"/enforce/information-for-harmed-investors\" title=\"Information for Harmed Investors\" class=\"menu__link\">Information for Harmed Investors</a>\\n              </li>\\n        </ul>\\n  \\n              </li>\\n                    <li class=\"menu__item is-expanded expanded\" >\\n                <a href=\"/rules.shtml\" title=\"Regulation\" class=\"menu__link\">Regulation</a>\\n                                <ul class=\"menu\">\\n                          <li class=\"menu__item is-active is-leaf leaf \">\\n                <a href=\"/rules/rulemaking-index.shtml\" title=\"Rulemaking Index\" class=\"menu__link\">Rulemaking Index</a>\\n              </li>\\n                    <li class=\"menu__item is-active is-leaf leaf \">\\n                <a href=\"/rules/proposed.shtml\" title=\"Proposed Rules\" class=\"menu__link\">Proposed Rules</a>\\n              </li>\\n                    <li class=\"menu__item is-active is-leaf leaf \">\\n                <a href=\"/rules/final.shtml\" title=\"Final Rules\" class=\"menu__link\">Final Rules</a>\\n              </li>\\n                    <li class=\"menu__item is-active is-leaf leaf \">\\n                <a href=\"/rules/interim-final-temp.shtml\" title=\"Interim Final Temporary Rules\" class=\"menu__link\">Interim Final Temporary Rules</a>\\n              </li>\\n                    <li class=\"menu__item is-active is-leaf leaf \">\\n                <a href=\"/rules/other.shtml\" title=\"Other Orders and Notices\" class=\"menu__link\">Other Orders and Notices</a>\\n              </li>\\n                    <li class=\"menu__item is-active is-leaf leaf \">\\n                <a href=\"/rules/sro.shtml\" title=\"Self-Regulatory Organizations\" class=\"menu__link\">Self-Regulatory Organizations</a>\\n              </li>\\n                    <li class=\"menu__item is-active is-leaf leaf \">\\n                <a href=\"/regulation/staff-interpretations\" title=\"Staff Interpretations\" class=\"menu__link\">Staff Interpretations</a>\\n              </li>\\n        </ul>\\n  \\n              </li>\\n                    <li class=\"menu__item is-expanded expanded\" >\\n                <a href=\"/education\" title=\"Education\" class=\"menu__link\">Education</a>\\n                                <ul class=\"menu\">\\n                          <li class=\"menu__item is-active is-leaf leaf \">\\n                <a href=\"/education/investor-education\" title=\"Investor Education\" class=\"menu__link\">Investor Education</a>\\n              </li>\\n                    <li class=\"menu__item is-active is-leaf leaf \">\\n                <a href=\"/education/capitalraising\" title=\"Small Business Capital Raising \" class=\"menu__link\">Small Business Capital Raising </a>\\n              </li>\\n                    <li class=\"menu__item is-active is-leaf leaf \">\\n                <a href=\"/education/glossary\" title=\"Glossaries\" class=\"menu__link\">Glossaries</a>\\n              </li>\\n        </ul>\\n  \\n              </li>\\n                    <li class=\"menu__item is-expanded expanded\" >\\n                <a href=\"/edgar.shtml\" title=\"Filings\" class=\"menu__link\">Filings</a>\\n                                <ul class=\"menu\">\\n                          <li class=\"menu__item is-active is-leaf leaf \">\\n                <a href=\"/edgar/search-and-access\" title=\"EDGAR \\xe2\\x80\\x93 Search &amp; Access\" class=\"menu__link\">EDGAR \\xe2\\x80\\x93 Search &amp; Access</a>\\n              </li>\\n                    <li class=\"menu__item is-active is-leaf leaf \">\\n                <a href=\"/edgar/filer-information\" title=\"EDGAR \\xe2\\x80\\x93 Information for Filers\" class=\"menu__link\">EDGAR \\xe2\\x80\\x93 Information for Filers</a>\\n              </li>\\n                    <li class=\"menu__item is-active is-leaf leaf \">\\n                <a href=\"/edgar/searchedgar/companysearch.html\" title=\"Company Filing Search\" class=\"menu__link\">Company Filing Search</a>\\n              </li>\\n                    <li class=\"menu__item is-active is-leaf leaf \">\\n                <a href=\"/oiea/Article/edgarguide.html\" title=\"How to Search EDGAR\" class=\"menu__link\">How to Search EDGAR</a>\\n              </li>\\n                    <li class=\"menu__item is-active is-leaf leaf \">\\n                <a href=\"/fast-answers/answerspublicdocshtm.html\" title=\"Requesting Public Documents\" class=\"menu__link\">Requesting Public Documents</a>\\n              </li>\\n                    <li class=\"menu__item is-active is-leaf leaf \">\\n                <a href=\"/forms\" title=\"Forms List\" class=\"menu__link\">Forms List</a>\\n              </li>\\n                    <li class=\"menu__item is-active is-leaf leaf \">\\n                <a href=\"/edgar/about\" title=\"About EDGAR\" class=\"menu__link\">About EDGAR</a>\\n              </li>\\n        </ul>\\n  \\n              </li>\\n                    <li class=\"menu__item is-expanded expanded\" >\\n                <a href=\"/page/news\" title=\"News\" class=\"menu__link\">News</a>\\n                                <ul class=\"menu\">\\n                          <li class=\"menu__item is-active is-leaf leaf \">\\n                <a href=\"/news/pressreleases\" title=\"Press Releases\" class=\"menu__link\">Press Releases</a>\\n              </li>\\n                    <li class=\"menu__item is-active is-leaf leaf \">\\n                <a href=\"/news/speeches-statements\" title=\"Speeches and Statements\" class=\"menu__link\">Speeches and Statements</a>\\n              </li>\\n                    <li class=\"menu__item is-active is-leaf leaf \">\\n                <a href=\"/spotlight\" title=\"Spotlight Topics\" class=\"menu__link\">Spotlight Topics</a>\\n              </li>\\n                    <li class=\"menu__item is-active is-leaf leaf \">\\n                <a href=\"/news/upcoming-events\" title=\"Upcoming Events\" class=\"menu__link\">Upcoming Events</a>\\n              </li>\\n                    <li class=\"menu__item is-active is-leaf leaf \">\\n                <a href=\"/news/sec-webcasts\" title=\"Webcasts\" class=\"menu__link\">Webcasts</a>\\n              </li>\\n                    <li class=\"menu__item is-active is-leaf leaf \">\\n                <a href=\"/sec-in-the-news\" title=\"SEC in the News\" class=\"menu__link\">SEC in the News</a>\\n              </li>\\n                    <li class=\"menu__item is-active is-leaf leaf \">\\n                <a href=\"/news/sec-videos\" title=\"SEC Videos\" class=\"menu__link\">SEC Videos</a>\\n              </li>\\n                    <li class=\"menu__item is-active is-leaf leaf \">\\n                <a href=\"/news/media-gallery\" title=\"Media Gallery\" class=\"menu__link\">Media Gallery</a>\\n              </li>\\n        </ul>\\n  \\n              </li>\\n        </ul>\\n  \\n\\n  \\n    </div>\\n  </div>\\n</div><nav role=\"navigation\" aria-labelledby=\"block-secgov-account-menu-menu\" id=\"block-secgov-account-menu\">\\n            \\n  <h2 class=\"visually-hidden\" id=\"block-secgov-account-menu-menu\">User account menu</h2>\\n  \\n\\n        \\n              <ul id=\"user-menu\" role=\"menubar\" aria-hidden=\"false\">\\n        \\n            <li class=\"login\" role=\"menuitem\">\\n              <a href=\"/user/login\" data-drupal-link-system-path=\"user/login\">Log in</a>\\n              </li>\\n\\n\\n        </ul>\\n  \\n\\n\\n  </nav>\\n\\n  </div>\\n\\n\\n        </div>\\n\\n        <div class=\"mobile-menu\" style=\"display: none;\">\\n          \\n              <ul id=\"main-menu\" class=\"menu\">\\n                      <li class=\"menu__item is-expanded expanded\">\\n      \\n        <a href=\"\" class=\"menu__link\">U.S. Securities and Exchange Commission</a>\\n                                <ul class=\"menu\">\\n                      <li class=\"menu__item is-active is-leaf leaf\">\\n      \\n        <a href=\"/divisions.shtml\" class=\"menu__link\" data-drupal-link-system-path=\"node/91856\">Divisions &amp; Offices</a>\\n              </li>\\n\\n                  <li class=\"menu__item is-active is-leaf leaf\">\\n      \\n        <a href=\"/litigation.shtml\" class=\"menu__link\">Enforcement</a>\\n              </li>\\n\\n                  <li class=\"menu__item is-active is-leaf leaf\">\\n      \\n        <a href=\"/rules.shtml\" class=\"menu__link\">Regulation</a>\\n              </li>\\n\\n                  <li class=\"menu__item is-active is-leaf leaf\">\\n      \\n        <a href=\"/education\" title=\"Education\" class=\"menu__link\" data-drupal-link-system-path=\"node/261726\">Education</a>\\n              </li>\\n\\n                  <li class=\"menu__item is-active is-leaf leaf\">\\n      \\n        <a href=\"/edgar.shtml\" class=\"menu__link\" data-drupal-link-system-path=\"node/91901\">Filings</a>\\n              </li>\\n\\n                  <li class=\"menu__item is-active is-leaf leaf\">\\n      \\n        <a href=\"/news\" class=\"menu__link\">Newsroom</a>\\n              </li>\\n\\n        </ul>\\n  \\n              </li>\\n\\n                  <li class=\"menu__item is-expanded expanded\">\\n      \\n        <a href=\"/news\" class=\"menu__link\">Newsroom</a>\\n                                <ul class=\"menu\">\\n                      <li class=\"menu__item is-active is-leaf leaf\">\\n      \\n        <a href=\"/news/pressreleases\" class=\"menu__link\" data-drupal-link-system-path=\"news/pressreleases\">Press Releases</a>\\n              </li>\\n\\n                  <li class=\"menu__item is-active is-leaf leaf\">\\n      \\n        <a href=\"/news/public-statements\" class=\"menu__link\">Public Statements</a>\\n              </li>\\n\\n                  <li class=\"menu__item is-active is-leaf leaf\">\\n      \\n        <a href=\"/news/speeches\" class=\"menu__link\">Speehes</a>\\n              </li>\\n\\n                  <li class=\"menu__item is-active is-leaf leaf\">\\n      \\n        <a href=\"/news/testimony\" class=\"menu__link\">Testimony</a>\\n              </li>\\n\\n        </ul>\\n  \\n              </li>\\n\\n                  <li class=\"menu__item is-expanded expanded\">\\n      \\n        <a href=\"/rss-feeds\" class=\"menu__link\">RSS Feeds</a>\\n                                <ul class=\"menu\">\\n                      <li class=\"menu__item is-active is-leaf leaf\">\\n      \\n        <a href=\"/rss/pressreleases\" class=\"menu__link\">Press Releases</a>\\n              </li>\\n\\n                  <li class=\"menu__item is-active is-leaf leaf\">\\n      \\n        <a href=\"/rss/public-statements\" class=\"menu__link\">Public Statements</a>\\n              </li>\\n\\n                  <li class=\"menu__item is-active is-leaf leaf\">\\n      \\n        <a href=\"/rss/speeches\" class=\"menu__link\">Speeches</a>\\n              </li>\\n\\n                  <li class=\"menu__item is-active is-leaf leaf\">\\n      \\n        <a href=\"/rss/testimony\" class=\"menu__link\">Testimony</a>\\n              </li>\\n\\n        </ul>\\n  \\n              </li>\\n\\n                  <li class=\"menu__item is-expanded expanded\">\\n      \\n        <a href=\"\" class=\"menu__link\">Social Media</a>\\n                                <ul class=\"menu\">\\n                      <li class=\"menu__item is-active is-leaf leaf\">\\n      \\n        <a href=\"\" class=\"menu__link\">@SEC_News</a>\\n              </li>\\n\\n                  <li class=\"menu__item is-active is-leaf leaf\">\\n      \\n        <a href=\"\" class=\"menu__link\">SEC Channel</a>\\n              </li>\\n\\n                  <li class=\"menu__item is-active is-leaf leaf\">\\n      \\n        <a href=\"\" class=\"menu__link\">SEC Photostream</a>\\n              </li>\\n\\n        </ul>\\n  \\n              </li>\\n\\n        </ul>\\n  \\n\\n\\n\\n                        \\n                  </div>\\n\\n      </div>\\n    </div>\\n          <div class=\"highlighted\">\\n        <aside role=\"complementary\" class=\"message section clearfix\">\\n            <div class=\"region region-highlighted\">\\n    <div data-drupal-messages-fallback class=\"hidden\"></div>\\n\\n  </div>\\n\\n\\n        </aside>\\n      </div>\\n    \\n    \\n                                \\n        \\n        \\n        \\n    \\n    <div class=\"page-content\">\\n      <div id=\"main-wrapper\" class=\"layout-main-wrapper layout-container clearfix\">\\n\\n                  \\n\\n      \\n            <div id=\"content-wrapper\" class=\"layout-main\">\\n\\n      <a id=\"main-content\" tabindex=\"-1\"></a>\\n\\n    \\n    \\t\\t  <div id=\"page-title\" class=\"region region-page-title\">\\n    <div id=\"block-secgov-page-title--2\" class=\"block region__inner page_title_block\">\\n  <div class=\"block--menu-block\">\\n    <div class=\"menu-block-wrapper menu-name-main-menu\">\\n      \\n            \\n              \\n\\n\\n  <h1>\\n<span property=\"schema:name\">Error 404: Page Not Found</span>\\n</h1>\\n\\n\\n\\n          </div>\\n  </div>\\n</div>\\n  </div>\\n\\n\\n    \\n    \\n              <div id=\"content\" class=\"basic-page content\">\\n            <div class=\"main-content region region-content\">\\n    <div id=\"block-secgov-content\">\\n  \\n    \\n      <article tabindex=\"0\"  data-history-node-id=\"315836\" role=\"article\" about=\"/error-404-page-not-found\" typeof=\"schema:WebPage\"  data-history-node-id=\"315836\" role=\"article\" about=\"/error-404-page-not-found\" typeof=\"schema:WebPage\">\\n  \\n      <span property=\"schema:name\" content=\"Error 404: Page Not Found\" class=\"hidden\"></span>\\n\\n\\n  \\n  <div class=\"main\">\\n\\n      <div property=\"schema:text\" class=\"body\"><div id=\"page-404\">\\n<h1 class=\"text-align-center\">Oops! Page Not Found.</h1>\\n\\n<hr />\\n<h2 class=\"text-align-center\">Error 404</h2>\\n\\n<p class=\"search-title text-align-center\">Please check the web address or try searching below.</p>\\n\\n<form accept-charset=\"UTF-8\" action=\"//secsearch.sec.gov/search\" id=\"search_form\" method=\"get\" name=\"uForm\">\\n<p class=\"text-align-center\"><input name=\"utf8\" type=\"hidden\" value=\"\\xe2\\x9c\\x93\" /> <input id=\"affiliate\" name=\"affiliate\" type=\"hidden\" value=\"secsearch\" /> <input aria-autocomplete=\"list\" aria-haspopup=\"true\" autocomplete=\"off\" class=\"usagov-search-autocomplete ui-autocomplete-input searchbox-oops\" id=\"query\" maxlength=\"256\" name=\"query\" role=\"textbox\" size=\"50\" type=\"text\" /> <input class=\"buttonSmall\" name=\"commit\" type=\"submit\" value=\"SEARCH \\xe2\\x80\\xba\" /></p>\\n</form>\\n\\n<p class=\"report-text text-align-center\">To report a broken link, please email <a href=\"mailto:webmaster@sec.gov?subject=Broken link:%20\">webmaster@sec.gov</a>.<br />\\nWe regret any inconvenience and we thank you for your interest in the SEC website.</p>\\n</div>\\n</div>\\n    \\n  </div>\\n\\n\\n</article>\\n\\n  </div>\\n\\n  </div>\\n\\n\\n        </div>\\n      \\n        \\n      \\n      </div>\\n\\n      \\n    </div>\\n    </div>\\n    \\n          <footer class=\"page-footer\">        \\n                  <div class=\"page-footer-top\">\\n              <div class=\"region region-footer-top\">\\n    \\n<div id=\"block-globalfooterstayconnectedfooter\" class=\"block stay-connected-footer\">\\n  \\n    \\n        <div class=\"body\"><p class=\"data-exempt\" id=\"stay-connected-footer\"><span>STAY CONNECTED</span><br class=\"new-line\" />\\n<a href=\"/news/socialmedia.shtml\"><span class=\"fa fa-lg fa-twitter\"><span class=\"visually-hidden\">1</span></span> <span class=\"hide-for-small\">Twitter</span></a> <a href=\"/news/socialmedia.shtml\"><span class=\"fa fa-lg fa-facebook\"><span class=\"visually-hidden\">2</span></span> <span class=\"hide-for-small\">Facebook</span></a> <a href=\"/about/secrss.shtml\"><span class=\"fa fa-lg fa-rss\"><span class=\"visually-hidden\">3</span></span><span class=\"hide-for-small\">RSS</span></a> <a href=\"/news/socialmedia.shtml\"><span class=\"fa fa-lg fa-youtube-play\"><span class=\"visually-hidden\">4</span></span><span class=\"hide-for-small\">YouTube</span></a><br class=\"hide-for-medium-up\" />\\n<a href=\"/news/socialmedia.shtml\"><span class=\"fa fa-lg fa-linkedin\"><span class=\"visually-hidden\">6</span></span><span class=\"hide-for-small\">LinkedIn</span></a> <!--<a href=\"//www.pinterest.com/secgov\"><span class=\"fa fa-lg fa-pinterest-p\"><span class=\"visually-hidden\">7</span></span> <span class=\"hide-for-small\">Pinterest</span></a>--> <a href=\"//public.govdelivery.com/accounts/USSEC/subscriber/new\"><span class=\"fa fa-lg fa-envelope\"><span class=\"visually-hidden\">8</span></span> <span class=\"hide-for-small\">Email Updates</span> </a></p>\\n</div>\\n  </div>\\n\\n  </div>\\n\\n\\n          </div>\\n                \\n        <div class=\"page-footer-cols\">\\n          <div>\\n    <nav role=\"navigation\" aria-labelledby=\"block-aboutthesec-menu\" id=\"block-aboutthesec\">\\n            \\n  <h2 id=\"block-aboutthesec-menu\">About The SEC</h2>\\n  \\n\\n        \\n              <ul id=\"section-menu\" class=\"menu\">\\n              <li class=\"menu__item is-active is-leaf leaf item-budget-&amp;-performance\">\\n        <a href=\"/about/offices/ofm/ofm-documents\" class=\"menu__link\" data-drupal-link-system-path=\"node/111606\">Budget &amp; Performance</a>\\n              </li>\\n\\n          <li class=\"menu__item is-active is-leaf leaf item-careers\">\\n        <a href=\"/careers\" class=\"menu__link\" data-drupal-link-system-path=\"node/41311\">Careers</a>\\n              </li>\\n\\n          <li class=\"menu__item is-active is-leaf leaf item-commission-votes\">\\n        <a href=\"/about/commission-votes.shtml\" class=\"menu__link\" data-drupal-link-system-path=\"node/111231\">Commission Votes</a>\\n              </li>\\n\\n          <li class=\"menu__item is-active is-leaf leaf item-contact\">\\n        <a href=\"/contact-information/sec-directory\" class=\"menu__link\" data-drupal-link-system-path=\"node/102846\">Contact</a>\\n              </li>\\n\\n          <li class=\"menu__item is-active is-leaf leaf item-contracts\">\\n        <a href=\"/page/oacqsectionlanding\" class=\"menu__link\" data-drupal-link-system-path=\"node/3841\">Contracts</a>\\n              </li>\\n\\n          <li class=\"menu__item is-active is-leaf leaf item-data-resources\">\\n        <a href=\"/sec-data-resources\" class=\"menu__link\" data-drupal-link-system-path=\"node/191566\">Data Resources</a>\\n              </li>\\n\\n        </ul>\\n  \\n\\n\\n\\n\\n\\n  </nav>\\n<nav role=\"navigation\" aria-labelledby=\"block-governmenttransparency-menu\" id=\"block-governmenttransparency\">\\n            \\n  <h2 id=\"block-governmenttransparency-menu\">Transparency</h2>\\n  \\n\\n        \\n              <ul id=\"section-menu\" class=\"menu\">\\n              <li class=\"menu__item is-active is-leaf leaf item-accessibility-&amp;-disability\">\\n        <a href=\"/disability/sec_access\" class=\"menu__link\" data-drupal-link-system-path=\"node/111766\">Accessibility &amp; Disability</a>\\n              </li>\\n\\n          <li class=\"menu__item is-active is-leaf leaf item-diversity-&amp;-inclusion\">\\n        <a href=\"/diversity-and-inclusion-sec\" class=\"menu__link\" data-drupal-link-system-path=\"node/279356\">Diversity &amp; Inclusion</a>\\n              </li>\\n\\n          <li class=\"menu__item is-active is-leaf leaf item-foia\">\\n        <a href=\"/page/office-foia-services\" class=\"menu__link\" data-drupal-link-system-path=\"node/41166\">FOIA</a>\\n              </li>\\n\\n          <li class=\"menu__item is-active is-leaf leaf item-inspector-general\">\\n        <a href=\"/oig\" class=\"menu__link\" data-drupal-link-system-path=\"node/41456\">Inspector General</a>\\n              </li>\\n\\n          <li class=\"menu__item is-active is-leaf leaf item-no-fear-act-&amp;-eeo-data\">\\n        <a href=\"/page/eeosectionlanding\" class=\"menu__link\" data-drupal-link-system-path=\"node/3781\">No FEAR Act &amp; EEO Data</a>\\n              </li>\\n\\n          <li class=\"menu__item is-active is-leaf leaf item-ombudsman\">\\n        <a href=\"/ombudsman\" class=\"menu__link\" data-drupal-link-system-path=\"node/96081\">Ombudsman</a>\\n              </li>\\n\\n          <li class=\"menu__item is-active is-leaf leaf item-whistleblower-protection\">\\n        <a href=\"/whistleblower\" class=\"menu__link\" data-drupal-link-system-path=\"node/99851\">Whistleblower Protection</a>\\n              </li>\\n\\n        </ul>\\n  \\n\\n\\n\\n\\n\\n  </nav>\\n<nav role=\"navigation\" aria-labelledby=\"block-otherwebsites-menu\" id=\"block-otherwebsites\">\\n            \\n  <h2 id=\"block-otherwebsites-menu\">Websites</h2>\\n  \\n\\n        \\n              <ul id=\"section-menu\" class=\"menu\">\\n              <li class=\"menu__item is-active is-leaf leaf item-investor.gov\">\\n        <a href=\"https://www.investor.gov\" class=\"menu__link\">Investor.gov</a>\\n              </li>\\n\\n          <li class=\"menu__item is-active is-leaf leaf item-related-sites\">\\n        <a href=\"/links\" class=\"menu__link\" data-drupal-link-system-path=\"node/100276\">Related Sites</a>\\n              </li>\\n\\n          <li class=\"menu__item is-active is-leaf leaf item-usa.gov\">\\n        <a href=\"https://www.usa.gov\" class=\"menu__link\">USA.gov</a>\\n              </li>\\n\\n        </ul>\\n  \\n\\n\\n\\n\\n\\n  </nav>\\n<nav role=\"navigation\" aria-labelledby=\"block-siteinformation-menu\" id=\"block-siteinformation\">\\n            \\n  <h2 id=\"block-siteinformation-menu\">Site Information</h2>\\n  \\n\\n        \\n              <ul id=\"section-menu\" class=\"menu\">\\n              <li class=\"menu__item is-active is-leaf leaf item-plain-writing\">\\n        <a href=\"/plainwriting.shtml\" class=\"menu__link\" data-drupal-link-system-path=\"node/111701\">Plain Writing</a>\\n              </li>\\n\\n          <li class=\"menu__item is-active is-leaf leaf item-privacy-&amp;-security\">\\n        <a href=\"/privacy\" class=\"menu__link\" data-drupal-link-system-path=\"node/111706\">Privacy &amp; Security</a>\\n              </li>\\n\\n          <li class=\"menu__item is-active is-leaf leaf item-site-map\">\\n        <a href=\"/sitemap.shtml\" class=\"menu__link\" data-drupal-link-system-path=\"node/111831\">Site Map</a>\\n              </li>\\n\\n        </ul>\\n  \\n\\n\\n\\n\\n\\n  </nav>\\n\\n  </div>\\n\\n\\n        </div>\\n      </footer>\\n        \\n                <script>\\n        if (typeof dataLayer != \"undefined\") dataLayer.push({\"pageType\": \"Error 404: Page Not Found\"});\\n      </script>\\n        </div>\\n</div>\\n</div>\\n\\n\\n  </div>\\n\\n    \\n\\n    <a href=\"#\" class=\"back-to-top\"><i class=\"fa fa-chevron-circle-up\" aria-hidden=\"true\"></i>Return to Top</a>\\n\\n    <div class=\"overlap\">\\n  <!-- Subscribe link, RSS, Email -->\\n  <div id=\"addthis-icons-508\" class=\"visibly-hidden\">\\n    <div class=\"addthis-wrapper\">\\n      <div class=\"appIconsDetail hide\">\\n        <div class=\"addthis_toolbox addthis_default_style hide-for-small\">\\n          <a class=\"addthis_button_print at300b\" title=\"Print Page\" href=\"#\">\\n            <span class=\"fa fa-print\"></span>\\n          </a>\\n          <a class=\"addthis_button_facebook at300b\" title=\"Share on Facebook\" href=\"#\">\\n            <span class=\"fa fa-facebook\"></span>\\n          </a>\\n          <a class=\"addthis_button_twitter at300b\" title=\"Tweet Page\" href=\"#\">\\n            <span class=\"fa fa-twitter\"></span>\\n          </a>\\n          <a class=\"addthis_button_mailto at300b\" target=\"_blank\" title=\"Email Page\" href=\"#\">\\n            <span class=\"fa fa-envelope\"></span>\\n          </a>\\n          <a class=\"addthis_button_compact at300m\" href=\"#\" title=\"More Sharing Options\">\\n            <span class=\"fa fa-plus\"></span>\\n          </a>\\n        <div class=\"atclear\"></div>\\n      </div>\\n      <div class=\"addthis_toolbox hide\">\\n        <a class=\"addthis_button_facebook at300b\" title=\"Share on Facebook\" href=\"#\">\\n          <span class=\"fa fa-facebook\"></span>\\n        </a>\\n        <a class=\"addthis_button_twitter at300b\" title=\"Tweet Page\" href=\"#\">\\n          <span class=\"fa fa-twitter\"></span>\\n        </a>\\n        <a class=\"addthis_button_mailto at300b\" target=\"_blank\" title=\"Email Page\" href=\"#\">\\n          <span class=\"fa fa-envelope\"></span>\\n        </a>\\n      </div>\\n      <div class=\"atclear\"></div>\\n      </div>\\n    </div>\\n  </div>\\n</div>\\n\\n    <script src=\"/files/js/js_j3jWwzLmiSS9kgOANhwswDfrGO5fD6lc0BIWHHlW3fw.js\"></script>\\n<script src=\"/themes/custom/secgov/js/third-party/addthis_widget.js?rgeccu\" async></script>\\n<script src=\"/files/js/js_jliu3pz-TU-0AAa966MZ0LObrcVQr_wd6SPNs6QsHTY.js\"></script>\\n\\n\\n  <script type=\"text/javascript\">window.NREUM||(NREUM={});NREUM.info={\"beacon\":\"bam.nr-data.net\",\"licenseKey\":\"32edb8f179\",\"applicationID\":\"436723953\",\"transactionName\":\"ZQZSMBQEXxZZARJeXlxMcQcSDF4LFz4iRURCAlw4CApVAGQhCVlFQAxcCAMXbStXBgNhWFcUcwsIEUMKVA4DRQsIFVkBEQ==\",\"queueTime\":0,\"applicationTime\":452,\"atts\":\"SUFRRlweTBg=\",\"errorBeacon\":\"bam.nr-data.net\",\"agent\":\"\"}</script></body>\\n  </html>\\n'\n"
     ]
    }
   ],
   "source": [
    "print(response.content)"
   ]
  },
  {
   "cell_type": "code",
   "execution_count": null,
   "id": "7f49c173",
   "metadata": {},
   "outputs": [],
   "source": []
  },
  {
   "cell_type": "code",
   "execution_count": null,
   "id": "d085f547",
   "metadata": {},
   "outputs": [],
   "source": [
    "response.text"
   ]
  },
  {
   "cell_type": "code",
   "execution_count": null,
   "id": "470ed990",
   "metadata": {},
   "outputs": [],
   "source": [
    "response.content"
   ]
  },
  {
   "cell_type": "code",
   "execution_count": null,
   "id": "efb5037f",
   "metadata": {},
   "outputs": [],
   "source": []
  },
  {
   "cell_type": "code",
   "execution_count": null,
   "id": "36cc3e52",
   "metadata": {},
   "outputs": [],
   "source": [
    "\n",
    "response = BeautifulSoup(response.content, \"html.parser\")"
   ]
  },
  {
   "cell_type": "code",
   "execution_count": null,
   "id": "ed3097a8",
   "metadata": {},
   "outputs": [],
   "source": [
    "response = etree.HTML(str(response))"
   ]
  },
  {
   "cell_type": "code",
   "execution_count": null,
   "id": "c253af61",
   "metadata": {},
   "outputs": [],
   "source": [
    "for p in del_elements:\n",
    "    if p == f'.//table':\n",
    "        for i in response.xpath(p):\n",
    "            if len(i) != 1:  # 테이블로 형태의 텍스트를 제외하고는 삭제\n",
    "                i.getparent().remove(i)\n",
    "    else:        \n",
    "        for i in response.xpath(p): #pagination 일반화가능?\n",
    "            i.getparent().remove(i)  \n",
    "\n",
    "response.xpath(f'.//text()')"
   ]
  },
  {
   "cell_type": "code",
   "execution_count": null,
   "id": "e4b59d7c",
   "metadata": {},
   "outputs": [],
   "source": [
    "\n",
    "    content_list = [] # init\n",
    "    \n",
    "    for k in range(0, len(temp_df)):\n",
    "        \n",
    "        accessionNumber = temp_df['accessionNumber'][k].replace(\"-\",\"\")\n",
    "        primaryDocument = temp_df['primaryDocument'][k]    \n",
    "\n",
    "        url = f'https://www.sec.gov/Archives/edgar/data/{cik}/{accessionNumber}/{primaryDocument}'\n",
    "        response = requests.get(url, headers = headers)\n",
    "        response = BeautifulSoup(response.content, \"html.parser\")\n",
    "        try:\n",
    "            response = etree.HTML(str(response))\n",
    "        except ValueError: # Unicode strings with encoding declaration are not supported\n",
    "            response = etree.HTML(bytes(str(response), encoding='utf-8'))\n",
    "\n",
    "        for p in del_elements:\n",
    "            if p == f'.//table':\n",
    "                for i in response.xpath(p):\n",
    "                    if len(i) != 1:  # 테이블로 형태의 텍스트를 제외하고는 삭제\n",
    "                        i.getparent().remove(i)\n",
    "            else:        \n",
    "                for i in response.xpath(p): #pagination 일반화가능?\n",
    "                    i.getparent().remove(i)  \n",
    "\n",
    "        content = response.xpath(f'.//text()')\n",
    "        content = remove_stopwords(content)\n",
    "        content = \" \".join(content)\n",
    "        content = re.sub(r\"\\s+\", \" \", content)\n",
    "        content_list.append(content)\n",
    "        \n",
    "    temp_df['content'] = content_list\n",
    "    temp_df.to_gbq(table_id, project_id, if_exists='append', credentials = credentials)\n",
    "    print(f\"{cik}-{name} completed\")"
   ]
  },
  {
   "cell_type": "code",
   "execution_count": null,
   "id": "675909af",
   "metadata": {},
   "outputs": [],
   "source": []
  },
  {
   "cell_type": "code",
   "execution_count": null,
   "id": "b4d631db",
   "metadata": {},
   "outputs": [],
   "source": []
  }
 ],
 "metadata": {
  "kernelspec": {
   "display_name": "Python 3.8.13 ('general')",
   "language": "python",
   "name": "python3"
  },
  "language_info": {
   "codemirror_mode": {
    "name": "ipython",
    "version": 3
   },
   "file_extension": ".py",
   "mimetype": "text/x-python",
   "name": "python",
   "nbconvert_exporter": "python",
   "pygments_lexer": "ipython3",
   "version": "3.8.13"
  },
  "vscode": {
   "interpreter": {
    "hash": "f5d32f057a3c8bd6a68a4140140c1c01731d179f143636ed2ae590c641a050cc"
   }
  }
 },
 "nbformat": 4,
 "nbformat_minor": 5
}
