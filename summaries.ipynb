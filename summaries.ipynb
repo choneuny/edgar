{
 "cells": [
  {
   "cell_type": "code",
   "execution_count": null,
   "metadata": {},
   "outputs": [],
   "source": [
    "import os\n",
    "import sys\n",
    "import glob\n",
    "import numpy as np\n",
    "import pandas as pd\n",
    "import datetime as dt\n",
    "from dateutil.parser import parse\n",
    "import datefinder\n",
    "import dateinfer\n",
    "import logging"
   ]
  },
  {
   "cell_type": "code",
   "execution_count": null,
   "metadata": {},
   "outputs": [],
   "source": [
    "def set_logger(level=logging.INFO, name=__name__):\n",
    "  try: logger = logging.getLogger(__class__.__qualname__)\n",
    "  except: logger = logging.getLogger(name)\n",
    "  logger.setLevel(level)\n",
    "  handler = logging.FileHandler('log_file.log')\n",
    "  formatter = logging.Formatter('%(asctime)s : %(name)s  : %(funcName)s : %(levelname)s : %(message)s')\n",
    "  handler.setFormatter(formatter)\n",
    "  logger.addHandler(handler)\n",
    "  return logger"
   ]
  },
  {
   "cell_type": "code",
   "execution_count": null,
   "metadata": {},
   "outputs": [],
   "source": [
    "dict_dir = \"summaries.csv\"\n",
    "summaries = pd.read_csv(dict_dir)[['CIK', 'FILING_DATE', 'ACC_NUM', 'FORM_TYPE' ,'CoName']]\n",
    "# get cik.csv\n",
    "a = pd.read_csv('cik.csv')\n",
    "# prettier\n",
    "a.drop(a.columns[0], axis=1, inplace=True)\n",
    "# limit exchange to NYSE or NASDAQ\n",
    "# due to duplicated cik are common in OTC, we need to limit exchange first\n",
    "a.drop(a.index[(a['exchange'] != 'NYSE')&(a['exchange'] != 'Nasdaq')], inplace=True)\n",
    "# drop all duplicates\n",
    "a.drop_duplicates(subset='cik', keep='first', inplace=True)\n",
    "a.drop_duplicates(subset='name', keep='first', inplace=True)\n",
    "a.drop_duplicates(subset='ticker', keep='first', inplace=True)\n",
    "# column cik to index\n",
    "a.set_index('cik', inplace=True)\n",
    "ticker = a\n",
    "# add col 'ticker', 'exchange' to summaries\n",
    "def findticker(cik):\n",
    "    try: result = ticker.at[cik, 'ticker']\n",
    "    except: return\n",
    "    return result\n",
    "def findexchange(cik):\n",
    "    try: result = ticker.at[cik, 'exchange']\n",
    "    except: return\n",
    "    return result\n",
    "summaries['TICKER'] = summaries['CIK'].map(findticker)\n",
    "summaries['EXCHANGE'] = summaries['CIK'].map(findexchange)"
   ]
  },
  {
   "cell_type": "code",
   "execution_count": null,
   "metadata": {},
   "outputs": [],
   "source": [
    "def find_path_from_date(filing_date):\n",
    "    filing_date = str(filing_date)\n",
    "    year = filing_date[:4]\n",
    "    # month to quarter\n",
    "    month = int(filing_date[4:6])\n",
    "    quarter = (month-1) // 3 + 1\n",
    "    quarter = 'QTR' + str(quarter)\n",
    "    path = os.path.join(PATH, year, quarter)\n",
    "    return path\n",
    "path = pd.DataFrame(columns=['acc', 'filename', 'path'])\n",
    "path['acc'] = summaries['ACC_NUM']\n",
    "path['filename'] = summaries['FILING_DATE'].map(str) + '_' + summaries['FORM_TYPE'] + '_edgar_data_'  + summaries['CIK'].map(str) + '_' + summaries['ACC_NUM'].map(str) + '.txt'\n",
    "path['path'] = summaries['FILING_DATE'].map(find_path_from_date) +os.sep+path['filename']\n",
    "path['acc'].map(str)\n",
    "path.set_index('acc', inplace=True)"
   ]
  },
  {
   "cell_type": "code",
   "execution_count": null,
   "metadata": {},
   "outputs": [],
   "source": [
    "# innocent = ACC_NUM이 중복되지 않은 리스트\n",
    "innocent = summaries.drop_duplicates(subset=['ACC_NUM'], keep=False)\n",
    "print(len(innocent))\n",
    "inn_cik =  innocent['CIK'].value_counts()\n",
    "inn_co =  innocent['CoName'].value_counts()\n",
    "inn_co\n",
    "print(len(inn_cik), len(inn_co))\n",
    "# get duplicated acc num\n",
    "duplicated = summaries[summaries['ACC_NUM'].duplicated(keep=False)]\n",
    "counts = duplicated['ACC_NUM'].value_counts()\n",
    "coname = duplicated['CoName'].value_counts()\n",
    "cik = duplicated['CIK'].value_counts()\n",
    "acc = counts.index\n",
    "print(coname)\n",
    "print(cik)\n",
    "summaries['CoName']"
   ]
  }
 ],
 "metadata": {
  "kernelspec": {
   "display_name": "Python 3.8.13 ('general')",
   "language": "python",
   "name": "python3"
  },
  "language_info": {
   "name": "python",
   "version": "3.8.13"
  },
  "orig_nbformat": 4,
  "vscode": {
   "interpreter": {
    "hash": "f5d32f057a3c8bd6a68a4140140c1c01731d179f143636ed2ae590c641a050cc"
   }
  }
 },
 "nbformat": 4,
 "nbformat_minor": 2
}
