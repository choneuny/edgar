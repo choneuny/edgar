{
 "cells": [
  {
   "cell_type": "code",
   "execution_count": 1,
   "metadata": {},
   "outputs": [],
   "source": [
    "import re\n",
    "import os\n",
    "from pathlib import Path\n",
    "from typing import Union\n",
    "from warnings import simplefilter\n",
    "from datetime import date\n",
    "from shutil import disk_usage\n",
    "from math import floor\n",
    "from multiprocessing import Pool\n",
    "from multiprocessing import cpu_count\n",
    "from zipfile import ZipFile\n",
    "\n",
    "from bs4 import BeautifulSoup\n",
    "import numpy as np\n",
    "import pandas as pd\n",
    "test = Path(r'C:\\Users\\wonhyeong\\downloads\\20211020_10-Q_edgar_data_1456802_0001477932-21-007463.txt') #ixbrl\n"
   ]
  },
  {
   "cell_type": "code",
   "execution_count": 2,
   "metadata": {},
   "outputs": [],
   "source": [
    "def clean_html(file: Path) -> str:\n",
    "    docu_end = '</DOCUMENT'\n",
    "    try:\n",
    "        with open(file, 'r+', encoding='utf-8') as f:\n",
    "            # read and rewrite\n",
    "            text = f.read()\n",
    "            found = text.find(docu_end)\n",
    "            if found == -1:\n",
    "                found = text.find(docu_end.lower())\n",
    "            if found == -1:\n",
    "                raise ValueError('No document end tag found')\n",
    "            text = text[:text.find(docu_end)]\n",
    "            f.close()\n",
    "    except:\n",
    "        try:\n",
    "            f.close()\n",
    "        except:\n",
    "            pass\n",
    "        return file, None, False\n",
    "    return file, text, True\n",
    "\n",
    "def make_folder(file: Union[str, Path]) -> Path:\n",
    "    name = '_'.join([str(file.name),'cleaned'])\n",
    "    cleaned = file.parent / name\n",
    "    done= cleaned / 'done'\n",
    "    errored = cleaned / 'errored'\n",
    "    cleaned.mkdir(exist_ok=True)\n",
    "    done.mkdir(exist_ok=True)\n",
    "    errored.mkdir(exist_ok=True)\n",
    "    return done, errored\n",
    "\n",
    "def save_on_success(file: Path, text: str, done: Path) -> None:\n",
    "    print(f'Saving {file.name}')\n",
    "    with open(file, 'w', encoding='utf-8') as f:\n",
    "        f.write(text)\n",
    "        f.close()\n",
    "    file.rename(done / file.name)\n",
    "    \n",
    "\n",
    "def save_on_failure(file: Path, errored_dir: Path) -> None:\n",
    "    print(f'Error in {file.name}')\n",
    "    file.rename(errored_dir / file.name)\n",
    "\n",
    "def get_free_space():\n",
    "    \"\"\"return free space of disk as GB\"\"\"\n",
    "    _,_,free = disk_usage('C:\\\\')\n",
    "    result = round(free / 1024**3, 2)\n",
    "    print(result)\n",
    "    return result\n",
    "\n",
    "def unzip_file(zip_file: Union[str, Path]) -> None:\n",
    "    \"\"\"Unzip a file to the same directory.\"\"\"\n",
    "    with ZipFile(zip_file, 'r') as zip_ref:\n",
    "        zip_ref.extractall(zip_file.parent)\n",
    "    return None"
   ]
  },
  {
   "cell_type": "code",
   "execution_count": 3,
   "metadata": {},
   "outputs": [
    {
     "name": "stdout",
     "output_type": "stream",
     "text": [
      "25.75\n"
     ]
    }
   ],
   "source": [
    "qtr = Path(r'C:\\Users\\wonhyeong\\workings\\data\\10X\\QTR4')\n",
    "\n",
    "if __name__ == '__main__':\n",
    "    files = list(qtr.iterdir())\n",
    "    zip_list = [x for x in files if x.is_file() and x.suffix == '.zip']\n",
    "    done, errored = make_folder(qtr)\n",
    "    free_space = get_free_space()\n",
    "    if free_space > 500:\n",
    "        unzip_file(zip_list[0])\n",
    "        zip_list = zip_list[1:]\n",
    "        zip_list[0].unlink()\n",
    "    with Pool(cpu_count() * 2) as p:\n",
    "        result = p.imap(clean_html, files, chunksize=100) \n",
    "        for file, text, success in result:\n",
    "            if success:\n",
    "                save_on_success(file, text, done)\n",
    "            else:\n",
    "                save_on_failure(file, errored)\n",
    "    print('Done')"
   ]
  },
  {
   "cell_type": "code",
   "execution_count": 10,
   "metadata": {},
   "outputs": [
    {
     "data": {
      "text/plain": [
       "<generator object Pool.imap.<locals>.<genexpr> at 0x000001AA5066ADD0>"
      ]
     },
     "execution_count": 10,
     "metadata": {},
     "output_type": "execute_result"
    }
   ],
   "source": [
    "a"
   ]
  }
 ],
 "metadata": {
  "kernelspec": {
   "display_name": "Python 3.8.13 ('general')",
   "language": "python",
   "name": "python3"
  },
  "language_info": {
   "codemirror_mode": {
    "name": "ipython",
    "version": 3
   },
   "file_extension": ".py",
   "mimetype": "text/x-python",
   "name": "python",
   "nbconvert_exporter": "python",
   "pygments_lexer": "ipython3",
   "version": "3.8.13"
  },
  "orig_nbformat": 4,
  "vscode": {
   "interpreter": {
    "hash": "f5d32f057a3c8bd6a68a4140140c1c01731d179f143636ed2ae590c641a050cc"
   }
  }
 },
 "nbformat": 4,
 "nbformat_minor": 2
}
