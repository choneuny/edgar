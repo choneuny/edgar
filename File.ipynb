{
 "cells": [
  {
   "cell_type": "code",
   "execution_count": 28,
   "id": "35799d6f",
   "metadata": {},
   "outputs": [],
   "source": [
    "import os\n",
    "import sys\n",
    "import glob\n",
    "import numpy as np\n",
    "import pandas as pd\n",
    "import datetime as dt\n",
    "from dateutil.parser import parse\n",
    "import numexpr as ne\n",
    "import datefinder\n",
    "import dateinfer"
   ]
  },
  {
   "cell_type": "code",
   "execution_count": 29,
   "id": "06527312",
   "metadata": {},
   "outputs": [
    {
     "name": "stdout",
     "output_type": "stream",
     "text": [
      "0801-08-25 00:00:00\n"
     ]
    }
   ],
   "source": [
    "print(parse('0801'))"
   ]
  },
  {
   "cell_type": "code",
   "execution_count": 30,
   "id": "078df83d",
   "metadata": {},
   "outputs": [],
   "source": [
    "tags = {\n",
    "    \"modifier\": {\n",
    "        \"after\": 20000101, \n",
    "        \"before\": 20050101,\n",
    "        \"year\": None,\n",
    "        \"quarter\": None,\n",
    "        \"qualifier\": {\"in\": None, \"-\": None},\n",
    "    },\n",
    "    \"key\": {\n",
    "        \"cik\": None, \n",
    "        \"date\": None,\n",
    "        \"name\": None, \n",
    "        \"symbol\": \"AAPL\", \n",
    "        \"unknown\": [\"apple\", \"down\"]\n",
    "    },\n",
    "}"
   ]
  },
  {
   "cell_type": "code",
   "execution_count": 31,
   "id": "6483117c",
   "metadata": {},
   "outputs": [
    {
     "name": "stdout",
     "output_type": "stream",
     "text": [
      "2\n",
      "5\n"
     ]
    }
   ],
   "source": [
    "arr = [1, 2, 3, 4, 5]\n",
    "print(arr.index(3))\n",
    "print(arr[arr.index(5)])"
   ]
  },
  {
   "cell_type": "code",
   "execution_count": 32,
   "id": "a2358a71",
   "metadata": {},
   "outputs": [],
   "source": [
    "## on home directory\n",
    "# PATH = os.path.abspath(r\"../data/10X/cleaned/1998/QTR2/\")\n",
    "# dict_dir = r\"../data/10X/Loughran-McDonald_10X_Summaries_1993-2021.csv\"\n",
    "## on office computer\n",
    "PATH = os.path.abspath(r\"C:\\Users\\wonhyeong\\workings\\data\\10X\\cleaned\")\n",
    "dict_dir = r\"C:\\Users\\wonhyeong\\workings\\data\\10X\\Loughran-McDonald_10X_Summaries_1993-2021.csv\"\n",
    "## on mac\n",
    "# PATH = os.path.abspath(r\"/Users/wonhyeong/workings/data/10X/cleaned\")\n",
    "# dict_dir = r\"/Users/wonhyeong/workings/data/10X/Loughran-McDonald_10X_Summaries_1993-2021.csv\"\n",
    "summaries = pd.read_csv(dict_dir)[['CIK', 'FILING_DATE', 'ACC_NUM', 'FORM_TYPE' ,'CoName']]"
   ]
  },
  {
   "cell_type": "code",
   "execution_count": 33,
   "id": "ccc7dbe7",
   "metadata": {},
   "outputs": [
    {
     "data": {
      "text/plain": [
       "556834"
      ]
     },
     "execution_count": 33,
     "metadata": {},
     "output_type": "execute_result"
    }
   ],
   "source": [
    "cik = summaries.CIK.values\n",
    "cik[ne.evaluate('(cik > 200000)')]\n",
    "len(cik[ne.evaluate('(cik > 1000000)')])"
   ]
  },
  {
   "cell_type": "code",
   "execution_count": 34,
   "id": "ea85a600",
   "metadata": {},
   "outputs": [
    {
     "name": "stdout",
     "output_type": "stream",
     "text": [
      "[ 861439  205239  353944 ... 1867956 1879373  711377]\n",
      "[False False False ...  True  True  True]\n"
     ]
    }
   ],
   "source": [
    "print(\n",
    "cik[ne.evaluate('(cik > 200000)')])\n",
    "print(ne.evaluate('(cik > 200000)'))"
   ]
  },
  {
   "cell_type": "code",
   "execution_count": 35,
   "id": "a83d6dc9",
   "metadata": {},
   "outputs": [],
   "source": [
    "a = cik[ne.evaluate(f'(cik == {1879373})')]\n"
   ]
  },
  {
   "cell_type": "code",
   "execution_count": 36,
   "id": "e2eb8501",
   "metadata": {},
   "outputs": [
    {
     "name": "stdout",
     "output_type": "stream",
     "text": [
      "[False False  True False]\n"
     ]
    }
   ],
   "source": [
    "a = np.array([True, False, True, False])\n",
    "b = np.array([False, True, True, False])\n",
    "d = [a,b]\n",
    "array = np.empty(4, dtype = bool)\n",
    "array.fill(True)\n",
    "for i in d:\n",
    "  array *= i\n",
    "print(array)"
   ]
  },
  {
   "cell_type": "code",
   "execution_count": 66,
   "id": "b7aaf5eb",
   "metadata": {},
   "outputs": [],
   "source": [
    "from datetime import datetime\n",
    "\n",
    "\n",
    "class file :\n",
    "    def __init__(self, data_dir):\n",
    "        import os\n",
    "        import pandas as pd\n",
    "        self.dir = data_dir\n",
    "        self.dict = summaries\n",
    "        self.columns = {\n",
    "            \"cik\": self.dict.CIK.values,\n",
    "            \"date\": self.dict.FILING_DATE.values,\n",
    "            \"name\": self.dict.CoName.values,\n",
    "            \"acc\": self.dict.ACC_NUM.values,\n",
    "            \"form\": self.dict.FORM_TYPE.values,\n",
    "            #\"symbol\": self.dict.SYMBOL.values,\n",
    "        }\n",
    "        self.depth = 0\n",
    "        self.subdir = []\n",
    "        self.file_count = []\n",
    "\n",
    "    def index(self, dir):\n",
    "        \"\"\"index tree and file counts in dir\n",
    "        return pandas set\"\"\"\n",
    "        if not dir or (dir in [\"whole\", \"all\", \"root\", \"tree\", \"node\"]):\n",
    "            ## print all directory tree and return listdir of root\n",
    "            return os.listdir(self.dir)\n",
    "        if len(dir) == 1:\n",
    "            ## search inputted dir in list of subdir and return listdir of that\n",
    "            if dir in self.subdir: return os.listdir(self.subdir[self.subdir.index(dir)])\n",
    "        return \"ERROR\"\n",
    "    \n",
    "    def search(self, *keywords):\n",
    "        if not keywords: return os.listdir(self.dir)\n",
    "        if len(keywords) > 1: return \"ERROR\"\n",
    "        ### search by keyword\n",
    "        key, modifier = self._search_preprocess(str(keywords[0]))\n",
    "        assert modifier or key, \"input your keyword\"\n",
    "        matrix = []\n",
    "        ## 조심해야함\n",
    "        if modifier: \n",
    "            matrix.append([self._get_from_modifier(mod, value) for mod, value in modifier.items()])\n",
    "        if key: \n",
    "            matrix.append([self._get_from_key(key, value) for key, value in key.items()])\n",
    "        print(matrix)\n",
    "        idx = np.multiply.reduce(matrix)\n",
    "        return idx\n",
    "\n",
    "    def _search_preprocess(self, keyword):\n",
    "        # params : string for search \n",
    "        # return : list of keywords + tags\n",
    "        key_tags = ['cik', 'date', 'name', 'symbol','acc', 'form']\n",
    "        modifier_tags = ['after', 'before', 'year', 'qtr']\n",
    "        keyword_list = keyword.split(' ')\n",
    "        print(keyword_list)\n",
    "        ## unknown 인식 및 처리 과정 필요\n",
    "        unknown = list(filter(lambda x: ':' not in x, keyword_list))\n",
    "        tag = list(filter(lambda x: ':' in x, keyword_list))\n",
    "        tag = dict(tuple(x.split(':')) for x in tag) if tag else {}\n",
    "        key = {k:v for k,v in tag.items() if k in key_tags}\n",
    "        modifier = {k:v for k,v in tag.items() if k in modifier_tags}\n",
    "        ## 현재 dateparser 적용 안되는 오류\n",
    "        for k, val in modifier.items(): val = self._date_parser(val)\n",
    "        modifier = {k:v for k,v in modifier.items() if v}\n",
    "        print(f'key : {key}')\n",
    "        print(f'modifier : {modifier}')\n",
    "        return key, modifier\n",
    "\n",
    "    def _date_parser(self, date):\n",
    "        if len(date) == 4:\n",
    "            if date.startswith(('19', '20')):\n",
    "                ## 연도만 입력된 경우\n",
    "                return date+'0101'\n",
    "            if int(date[:2]) < 13:\n",
    "                ## 월일만 입력된 경우\n",
    "                year = str(datetime.now().year)\n",
    "                return year + date\n",
    "        ## try 내에서 return 사용 가능?\n",
    "        try: result = parse(date).strftime('%Y%m%d')\n",
    "        except: return None\n",
    "        return result\n",
    "\n",
    "    def _get_depth(self, path):\n",
    "        for root, dir, file in os.walk(path):\n",
    "            if file and not dir: \n",
    "                self.depth = root.count(os.sep)-path.count(os.sep)+1\n",
    "        return \"ERROR\"\n",
    "    \n",
    "    def _get_subdir(self, path):\n",
    "        \"\"\"search for subdir in path\n",
    "        return list of subdir\n",
    "        every iteration, check next(os.walk(subdir))[1]\n",
    "        if empty continue to next iteration\"\"\"\n",
    "        return \"ERROR\"\n",
    "    \n",
    "    def _get_from_key(self, key, value, *data):\n",
    "        col = self.columns[key]\n",
    "        idx = ne.evaluate(f'(col == {value})')\n",
    "        return idx\n",
    "\n",
    "    def _get_from_modifier(self, modifier, value, *data):\n",
    "        date = self.columns[\"date\"]\n",
    "        value = str(value)\n",
    "        after = \"10000000\"\n",
    "        before = \"99999999\"\n",
    "        if modifier == 'after': after = value\n",
    "        elif modifier == 'before': before = value\n",
    "        elif modifier == 'year': \n",
    "            after = value[:4] + '0101' \n",
    "            before = value[:4] + '1231'\n",
    "        elif modifier == 'qtr':\n",
    "            after = value \n",
    "            before = value[:4] + str(int(value[4:6])+3) + value[6:]\n",
    "        idx = ne.evaluate(f'({int(after)} < date) & (date < {int(before)})')\n",
    "        return idx"
   ]
  },
  {
   "cell_type": "code",
   "execution_count": 67,
   "id": "696b95e3",
   "metadata": {},
   "outputs": [
    {
     "name": "stdout",
     "output_type": "stream",
     "text": [
      "['after:2020']\n",
      "key : {}\n",
      "modifier : {'after': '2020'}\n",
      "[[array([ True,  True,  True, ...,  True,  True,  True])]]\n"
     ]
    }
   ],
   "source": [
    "date = file(PATH)\n",
    "a = date.search('after:2020')"
   ]
  },
  {
   "cell_type": "code",
   "execution_count": 65,
   "id": "b1d4bb32",
   "metadata": {},
   "outputs": [
    {
     "name": "stdout",
     "output_type": "stream",
     "text": [
      "<class 'numpy.ndarray'>\n",
      "(1, 1140486)\n",
      "(1140486,)\n",
      "[1 1 1 ... 1 1 1]\n"
     ]
    }
   ],
   "source": [
    "print(type(a))\n",
    "print(a.shape)\n",
    "print(a[0].shape)\n",
    "print(a[0])\n",
    "# print(summaries.iloc[np.where(a[0] == True)])"
   ]
  },
  {
   "cell_type": "code",
   "execution_count": 8,
   "id": "bed61023",
   "metadata": {},
   "outputs": [],
   "source": [
    "b = date._get_from_modifier(\"qtr\", 20200901)"
   ]
  },
  {
   "cell_type": "code",
   "execution_count": 9,
   "id": "d13add56",
   "metadata": {},
   "outputs": [
    {
     "name": "stdout",
     "output_type": "stream",
     "text": [
      "[1171838 1387467 1622408 ... 1815086 1823524  764478]\n",
      "6298\n"
     ]
    }
   ],
   "source": [
    "print(b)\n",
    "print(len(b))"
   ]
  },
  {
   "cell_type": "code",
   "execution_count": null,
   "id": "18d545d0",
   "metadata": {},
   "outputs": [],
   "source": []
  },
  {
   "cell_type": "code",
   "execution_count": null,
   "id": "d9936313",
   "metadata": {},
   "outputs": [],
   "source": []
  }
 ],
 "metadata": {
  "kernelspec": {
   "display_name": "Python 3.8.13 ('general')",
   "language": "python",
   "name": "python3"
  },
  "language_info": {
   "codemirror_mode": {
    "name": "ipython",
    "version": 3
   },
   "file_extension": ".py",
   "mimetype": "text/x-python",
   "name": "python",
   "nbconvert_exporter": "python",
   "pygments_lexer": "ipython3",
   "version": "3.8.13"
  },
  "vscode": {
   "interpreter": {
    "hash": "f5d32f057a3c8bd6a68a4140140c1c01731d179f143636ed2ae590c641a050cc"
   }
  }
 },
 "nbformat": 4,
 "nbformat_minor": 5
}
